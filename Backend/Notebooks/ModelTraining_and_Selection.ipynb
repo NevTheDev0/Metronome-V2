{
  "nbformat": 4,
  "nbformat_minor": 0,
  "metadata": {
    "colab": {
      "provenance": [],
      "toc_visible": true
    },
    "kernelspec": {
      "name": "python3",
      "display_name": "Python 3"
    },
    "language_info": {
      "name": "python"
    }
  },
  "cells": [
    {
      "cell_type": "markdown",
      "source": [
        "# Model Training"
      ],
      "metadata": {
        "id": "RwLzGAtJ0CAw"
      }
    },
    {
      "cell_type": "markdown",
      "source": [
        "First of all we need... the imports!\n",
        "<br>\n",
        "<small>So we don't code an ML algorithm by hand(I might do that for a future mini project)"
      ],
      "metadata": {
        "id": "dGahv7JkmuMN"
      }
    },
    {
      "cell_type": "code",
      "execution_count": 32,
      "metadata": {
        "id": "eC49k5D6wUEC"
      },
      "outputs": [],
      "source": [
        "#Regular ML stuff\n",
        "import numpy as np\n",
        "import pandas as pd\n",
        "import matplotlib.pyplot as plt\n",
        "import seaborn as sns\n",
        "\n",
        "#NN Stuff(AKA Keras)\n",
        "from tensorflow import keras\n",
        "from keras import Sequential\n",
        "from keras.layers import Dense\n",
        "from keras.optimizers import Adam\n",
        "\n",
        "#sklearn for metrics(mainly)\n",
        "from sklearn.model_selection import train_test_split\n",
        "from sklearn.metrics import precision_recall_curve, confusion_matrix, classification_report, accuracy_score, precision_score, recall_score, f1_score\n",
        "from sklearn.dummy import DummyClassifier\n",
        "from sklearn.utils.class_weight import compute_class_weight"
      ]
    },
    {
      "cell_type": "markdown",
      "source": [
        "Alright first and foremost we need to define some variables and constants\n",
        "Below I will define our target variable(y) and our features(X)"
      ],
      "metadata": {
        "id": "6w4-fgBWmjP1"
      }
    },
    {
      "cell_type": "code",
      "source": [
        "df = pd.read_csv(r\"TrainData.csv\")\n",
        "X = df.drop(columns=[\"label\"])\n",
        "y = df[\"label\"]\n",
        "WINDOW_SIZE = 5\n",
        "NUM_FEATURES = 14"
      ],
      "metadata": {
        "id": "2Y2qZm14wUup"
      },
      "execution_count": 33,
      "outputs": []
    },
    {
      "cell_type": "markdown",
      "source": [
        "Alright what we're going to do next is define a function to help us group together frames (or in this case we're \"windowing\" it) so we dont train per FRAME but FRAMES according to their features\n",
        "<br>\n",
        "<small>This is a very common thing to do in Time Series tasks"
      ],
      "metadata": {
        "id": "8fzNh6-Intlc"
      }
    },
    {
      "cell_type": "code",
      "source": [
        "def make_windows(X, y, window_size, flatten=True):\n",
        "    X_windowed, y_windowed = [], []\n",
        "    num_features = X.shape[1]\n",
        "\n",
        "    for i in range(window_size, len(X)):\n",
        "        window = X.iloc[i - window_size : i].to_numpy()\n",
        "        label = y.iloc[i]\n",
        "\n",
        "        if flatten:\n",
        "            window = np.reshape(window, (window_size * num_features,))\n",
        "\n",
        "        X_windowed.append(window)\n",
        "        y_windowed.append(label)\n",
        "\n",
        "    return np.array(X_windowed), np.array(y_windowed)\n",
        "\n",
        "X_windowed, y_windowed = make_windows(X, y, WINDOW_SIZE, flatten=True) #<--- We're just going to instantly define this to avoid hassle"
      ],
      "metadata": {
        "id": "KhmgoflKoQ2M"
      },
      "execution_count": 34,
      "outputs": []
    },
    {
      "cell_type": "markdown",
      "source": [
        "Our data is skewed, for a good reason since a lot of the motions in drumming arent necessarily hits, e.g if you're lifting your hand up from a hit that doesn't count as a hit but a motion\n",
        "\n",
        "Anyways enough jibber jabber about that we need to make sure the model isn't BIASED towards the majority class, which in this case is class 0 (or NO hit), so we need to apply class weights"
      ],
      "metadata": {
        "id": "qIOnvMdKpJrV"
      }
    },
    {
      "cell_type": "code",
      "source": [
        "class_weights = compute_class_weight(\n",
        "    class_weight=\"balanced\", classes=np.unique(y_windowed), y=y_windowed\n",
        ")\n",
        "class_weight_dict = {i: w for i, w in enumerate(class_weights)}"
      ],
      "metadata": {
        "id": "jobCkEbGmQP0"
      },
      "execution_count": 35,
      "outputs": []
    },
    {
      "cell_type": "markdown",
      "source": [
        "We're going to do what every ML engineer is doing right now, yeah its splitting the data set into train and test\n",
        "<br>\n",
        "Its mandatory at this point to do this because... why wouldn't you"
      ],
      "metadata": {
        "id": "VwAMuWVupwlu"
      }
    },
    {
      "cell_type": "code",
      "source": [
        "X_train, X_test, y_train, y_test = train_test_split(\n",
        "    X_windowed, y_windowed, test_size=0.2, random_state=42, stratify=y_windowed\n",
        ")"
      ],
      "metadata": {
        "id": "d0uajI47mtK0"
      },
      "execution_count": 36,
      "outputs": []
    },
    {
      "cell_type": "markdown",
      "source": [
        "Next we must thank Tensorflow (Ty Tensorflow!) for Keras\n",
        "\n",
        "<br>Ok we must stay focused on our goal, we will now build the model\n",
        "<br>Our WIDE LAYER or first layer will have 128 **neurons** (or units) and will use the **ReLU** algorithm to activate the neurons\n",
        "<br>Then our HIDDEN LAYER will have 64 **neurons**, like before we will use the ReLU algorithm to activate the neurons\n",
        "<br>Finally our last layer will only use 1 **neuron** and it will be activated by the **Sigmoid** Function\n",
        "\n",
        "<br>Compile wise we will optimize the model using Adam, have the loss be binary_crossentropy and we will need to see the metrics"
      ],
      "metadata": {
        "id": "sr4ndzw5qIUU"
      }
    },
    {
      "cell_type": "code",
      "source": [
        "# Build model\n",
        "MLP = Sequential()\n",
        "MLP.add(Dense(128, activation=\"relu\", input_shape=(X_train.shape[1],)))\n",
        "MLP.add(Dense(64, activation=\"relu\"))\n",
        "MLP.add(Dense(1, activation=\"sigmoid\"))\n",
        "\n",
        "# Compile the model\n",
        "MLP.compile(optimizer=\"Adam\", loss=\"binary_crossentropy\", metrics=[\"accuracy\"])"
      ],
      "metadata": {
        "colab": {
          "base_uri": "https://localhost:8080/"
        },
        "id": "YwJv4g3IqGCV",
        "outputId": "3b6d9f8a-569b-41a0-e153-4ed8555da09b"
      },
      "execution_count": 37,
      "outputs": [
        {
          "output_type": "stream",
          "name": "stderr",
          "text": [
            "/usr/local/lib/python3.12/dist-packages/keras/src/layers/core/dense.py:93: UserWarning: Do not pass an `input_shape`/`input_dim` argument to a layer. When using Sequential models, prefer using an `Input(shape)` object as the first layer in the model instead.\n",
            "  super().__init__(activity_regularizer=activity_regularizer, **kwargs)\n"
          ]
        }
      ]
    },
    {
      "cell_type": "markdown",
      "source": [
        "Now we will train the model\n",
        "<br>We will be doing 20 epochs (or steps) and we will include our class weight"
      ],
      "metadata": {
        "id": "ZPkJlSUtsgKe"
      }
    },
    {
      "cell_type": "code",
      "source": [
        "MLP.fit(\n",
        "    X_train,\n",
        "    y_train,\n",
        "    epochs=20,\n",
        "    batch_size=32,\n",
        "    validation_split=0.2,\n",
        "    class_weight=class_weight_dict,\n",
        ")"
      ],
      "metadata": {
        "colab": {
          "base_uri": "https://localhost:8080/"
        },
        "id": "BRuxQphiskge",
        "outputId": "bd507ba5-8314-4e80-d9b1-35a7342afba7"
      },
      "execution_count": 38,
      "outputs": [
        {
          "output_type": "stream",
          "name": "stdout",
          "text": [
            "Epoch 1/20\n",
            "\u001b[1m641/641\u001b[0m \u001b[32m━━━━━━━━━━━━━━━━━━━━\u001b[0m\u001b[37m\u001b[0m \u001b[1m4s\u001b[0m 4ms/step - accuracy: 0.6805 - loss: 1.2354 - val_accuracy: 0.7755 - val_loss: 0.4893\n",
            "Epoch 2/20\n",
            "\u001b[1m641/641\u001b[0m \u001b[32m━━━━━━━━━━━━━━━━━━━━\u001b[0m\u001b[37m\u001b[0m \u001b[1m2s\u001b[0m 3ms/step - accuracy: 0.7545 - loss: 0.5712 - val_accuracy: 0.7247 - val_loss: 0.5794\n",
            "Epoch 3/20\n",
            "\u001b[1m641/641\u001b[0m \u001b[32m━━━━━━━━━━━━━━━━━━━━\u001b[0m\u001b[37m\u001b[0m \u001b[1m2s\u001b[0m 2ms/step - accuracy: 0.7638 - loss: 0.5065 - val_accuracy: 0.7800 - val_loss: 0.4682\n",
            "Epoch 4/20\n",
            "\u001b[1m641/641\u001b[0m \u001b[32m━━━━━━━━━━━━━━━━━━━━\u001b[0m\u001b[37m\u001b[0m \u001b[1m2s\u001b[0m 2ms/step - accuracy: 0.7912 - loss: 0.4693 - val_accuracy: 0.7398 - val_loss: 0.5369\n",
            "Epoch 5/20\n",
            "\u001b[1m641/641\u001b[0m \u001b[32m━━━━━━━━━━━━━━━━━━━━\u001b[0m\u001b[37m\u001b[0m \u001b[1m2s\u001b[0m 2ms/step - accuracy: 0.7881 - loss: 0.4580 - val_accuracy: 0.7862 - val_loss: 0.4948\n",
            "Epoch 6/20\n",
            "\u001b[1m641/641\u001b[0m \u001b[32m━━━━━━━━━━━━━━━━━━━━\u001b[0m\u001b[37m\u001b[0m \u001b[1m2s\u001b[0m 3ms/step - accuracy: 0.8035 - loss: 0.4407 - val_accuracy: 0.7747 - val_loss: 0.4783\n",
            "Epoch 7/20\n",
            "\u001b[1m641/641\u001b[0m \u001b[32m━━━━━━━━━━━━━━━━━━━━\u001b[0m\u001b[37m\u001b[0m \u001b[1m2s\u001b[0m 2ms/step - accuracy: 0.8129 - loss: 0.4245 - val_accuracy: 0.7524 - val_loss: 0.5136\n",
            "Epoch 8/20\n",
            "\u001b[1m641/641\u001b[0m \u001b[32m━━━━━━━━━━━━━━━━━━━━\u001b[0m\u001b[37m\u001b[0m \u001b[1m2s\u001b[0m 4ms/step - accuracy: 0.8083 - loss: 0.4123 - val_accuracy: 0.7353 - val_loss: 0.5672\n",
            "Epoch 9/20\n",
            "\u001b[1m641/641\u001b[0m \u001b[32m━━━━━━━━━━━━━━━━━━━━\u001b[0m\u001b[37m\u001b[0m \u001b[1m2s\u001b[0m 3ms/step - accuracy: 0.8168 - loss: 0.4030 - val_accuracy: 0.7753 - val_loss: 0.4801\n",
            "Epoch 10/20\n",
            "\u001b[1m641/641\u001b[0m \u001b[32m━━━━━━━━━━━━━━━━━━━━\u001b[0m\u001b[37m\u001b[0m \u001b[1m2s\u001b[0m 2ms/step - accuracy: 0.8263 - loss: 0.3926 - val_accuracy: 0.8280 - val_loss: 0.3944\n",
            "Epoch 11/20\n",
            "\u001b[1m641/641\u001b[0m \u001b[32m━━━━━━━━━━━━━━━━━━━━\u001b[0m\u001b[37m\u001b[0m \u001b[1m2s\u001b[0m 2ms/step - accuracy: 0.8193 - loss: 0.3989 - val_accuracy: 0.8005 - val_loss: 0.4574\n",
            "Epoch 12/20\n",
            "\u001b[1m641/641\u001b[0m \u001b[32m━━━━━━━━━━━━━━━━━━━━\u001b[0m\u001b[37m\u001b[0m \u001b[1m2s\u001b[0m 2ms/step - accuracy: 0.8301 - loss: 0.3776 - val_accuracy: 0.8444 - val_loss: 0.3670\n",
            "Epoch 13/20\n",
            "\u001b[1m641/641\u001b[0m \u001b[32m━━━━━━━━━━━━━━━━━━━━\u001b[0m\u001b[37m\u001b[0m \u001b[1m2s\u001b[0m 2ms/step - accuracy: 0.8361 - loss: 0.3678 - val_accuracy: 0.7944 - val_loss: 0.4635\n",
            "Epoch 14/20\n",
            "\u001b[1m641/641\u001b[0m \u001b[32m━━━━━━━━━━━━━━━━━━━━\u001b[0m\u001b[37m\u001b[0m \u001b[1m2s\u001b[0m 2ms/step - accuracy: 0.8351 - loss: 0.3663 - val_accuracy: 0.8268 - val_loss: 0.4162\n",
            "Epoch 15/20\n",
            "\u001b[1m641/641\u001b[0m \u001b[32m━━━━━━━━━━━━━━━━━━━━\u001b[0m\u001b[37m\u001b[0m \u001b[1m2s\u001b[0m 3ms/step - accuracy: 0.8429 - loss: 0.3432 - val_accuracy: 0.8460 - val_loss: 0.3759\n",
            "Epoch 16/20\n",
            "\u001b[1m641/641\u001b[0m \u001b[32m━━━━━━━━━━━━━━━━━━━━\u001b[0m\u001b[37m\u001b[0m \u001b[1m2s\u001b[0m 3ms/step - accuracy: 0.8454 - loss: 0.3473 - val_accuracy: 0.8506 - val_loss: 0.3631\n",
            "Epoch 17/20\n",
            "\u001b[1m641/641\u001b[0m \u001b[32m━━━━━━━━━━━━━━━━━━━━\u001b[0m\u001b[37m\u001b[0m \u001b[1m2s\u001b[0m 2ms/step - accuracy: 0.8564 - loss: 0.3246 - val_accuracy: 0.8280 - val_loss: 0.4149\n",
            "Epoch 18/20\n",
            "\u001b[1m641/641\u001b[0m \u001b[32m━━━━━━━━━━━━━━━━━━━━\u001b[0m\u001b[37m\u001b[0m \u001b[1m2s\u001b[0m 2ms/step - accuracy: 0.8643 - loss: 0.3103 - val_accuracy: 0.8241 - val_loss: 0.3927\n",
            "Epoch 19/20\n",
            "\u001b[1m641/641\u001b[0m \u001b[32m━━━━━━━━━━━━━━━━━━━━\u001b[0m\u001b[37m\u001b[0m \u001b[1m2s\u001b[0m 2ms/step - accuracy: 0.8669 - loss: 0.3059 - val_accuracy: 0.8526 - val_loss: 0.3575\n",
            "Epoch 20/20\n",
            "\u001b[1m641/641\u001b[0m \u001b[32m━━━━━━━━━━━━━━━━━━━━\u001b[0m\u001b[37m\u001b[0m \u001b[1m2s\u001b[0m 2ms/step - accuracy: 0.8667 - loss: 0.3069 - val_accuracy: 0.8715 - val_loss: 0.3137\n"
          ]
        },
        {
          "output_type": "execute_result",
          "data": {
            "text/plain": [
              "<keras.src.callbacks.history.History at 0x7b1eaf6a5b80>"
            ]
          },
          "metadata": {},
          "execution_count": 38
        }
      ]
    },
    {
      "cell_type": "markdown",
      "source": [
        "# Model Evaluation"
      ],
      "metadata": {
        "id": "Jx8Vc8UN0Ifw"
      }
    },
    {
      "cell_type": "markdown",
      "source": [
        "Alrighty now we got that but wait... how do we know if its good?\n",
        "<br>Now we get into the metrics (the most BORING part)"
      ],
      "metadata": {
        "id": "17xjKRVhs9Zm"
      }
    },
    {
      "cell_type": "code",
      "source": [
        "#We're gonna start off basic\n",
        "metrics = MLP.evaluate(X_test, y_test)\n",
        "print(metrics)"
      ],
      "metadata": {
        "colab": {
          "base_uri": "https://localhost:8080/"
        },
        "id": "MtIz9CdrtHoG",
        "outputId": "3ab4c9b0-4374-436f-a586-c0f81c2c674d"
      },
      "execution_count": 39,
      "outputs": [
        {
          "output_type": "stream",
          "name": "stdout",
          "text": [
            "\u001b[1m201/201\u001b[0m \u001b[32m━━━━━━━━━━━━━━━━━━━━\u001b[0m\u001b[37m\u001b[0m \u001b[1m0s\u001b[0m 2ms/step - accuracy: 0.8770 - loss: 0.3163\n",
            "[0.30914366245269775, 0.8776944875717163]\n"
          ]
        }
      ]
    },
    {
      "cell_type": "markdown",
      "source": [
        "That's a cool little way to do it but there isn't much we can get from that\n",
        "<br>So we'll need to do a little bit more, a good way to measure accuracy is by using a confusion matrix (refer to the image I attached if you don't know how to read one) ![662c42677529a0f4e97e4f43_644bedb136edb30fc02b0753_classification_metrics_img_source_grey.001-min.png](data:image/png;base64,iVBORw0KGgoAAAANSUhEUgAAB38AAAQ4CAMAAAA+SuZlAAAABGdBTUEAALGPC/xhBQAAAAFzUkdCAK7OHOkAAAKaUExURdTU1enp6v///9XV1jo6OYB/gOfn5+rq6v/Jx//JyLW1tVhYWOPj43R0dJiYmZubm4eGh8PDxL29voyLjKemp6qpqq+ur8jIyMrKy5STlM7Oz7i4uL+/v6GhovvGxK6ur4SDhIuKi8/Pz8HBwqiVlvHAv6CQkdHR0tPT1EA/Pj09POnp6UREQ09PTjs7OvfDwnNzco2NjbKxsvLAvjw8O8aop4KBgcurqbu7u1lZWNvb21tbWrOztIqKiuXl5UdHRlRUU7Cwrz4+PZ+fn2ZmZktLS0FBQM3Nzm9vb4+Pj3x8fJWVlWlpaOTk5LCwsWtra+Hh4V9fXm1tbaSkpMnJyYmJiWRkZF1dXIaGhoCAgJOTk0VFRLq6utnZ2ZmZmU1NTFdQTt7e3klJSMfHyEJCQZGRkeLi4nl5eKWlpaysrXZ2dlZWVcbGxszLzJ2dnba2tuGzslJSUVpSUHt7e+S2tLKyssSenFFRUH9/fpR7er29vaqqqpeXl+i2tebm5oODg9/f4ISEhKCgoHNiYVFLStDQ0GRYV1RNTGNjYnZlZP/Ix8LCw2FhYGBVVP7HxUtGRaaIhqOjo8ign7mVk8TExe27uqioqN2vrrm5uampqfTBwIBsa9aqqre3uLaTkXlnZbyXlbCPjZl/fry8vfzHxvnFw2teXUVCQW9gX3Z2deq6uF5UUpd9e31qaYNubYiHiPbCwcCbme++vYx1c7S0tauLiU5IR9fX10lEQ8yjoo93dWdbWdmtq4uLitOop6GEg76al9XV1YZxcNSwr5J5eJ6CgNCmpZiNjdWpqNJzhJKJitLS04lzcYiDhNqxsIyGh7eenrKRkKOSk72iosOlpZ2QkLKbnJuAfq2YmaaUlcmpqM+trMyrq+n/1jV8lEwAAJXYSURBVHja7N3dTxT3HsDhPSd7dYjvRPGoaSoXBQIEG2M0aPAFCrVE4guoxWgiGF0FG9KYmmrS2ITEpNw0MSf2ole98r7/Bf/UYZHd/c7uzDKAu2rzPHcs88aG5LOz85vfFAoAQHv969/eAwDQXwDQXwBAfwFAfwEA/QUA/QUA9BcA9BcA9BcA0F8A0F8AQH8BQH8BAP0FAP0FAPQXAPQXAPQXANBfANBfAEB/AUB/AQD9BQD9BQD0FwD0FwD0FwDQXwDQXwBAfwFAfwEA/QUA/QUA9BcA9BcA9BcA0F8A0F8AQH8BQH8BAP0FAP0FAP31HgCA/gKA/gIA+gsA+gsA6C8A6C8AoL8AoL8AoL8AgP4CgP4CAPoLAPoLAOgvAOgvAKC/AKC/AKC/AID+AoD+AgD6CwD6CwDoLwDoLwCgvwCgvwCgvwCA/gKA/gIA+gsA+gsA6C8A6C8AoL8AoL8AoL8AgP4CgP4CAPoLAPoLAOgvAOgvAOiv9wAA9BcA9BcA0F8A0F8AQH8BQH8BAP0FPq7FK1X/9W6gv94D+MeYHkk3MDzzbvfpnrYey8RSxUrlpe+LVb9+Mu/ZrupxDvsHQn+Bbfmx2MzIL/vaeCznq/vt/6T7O1w9pj7/QOgv0IL+Fosnhw7pr/6iv0Cb+1ss3v/f59rfxdcrFSX9RX+Bz6u/xeJ3n2l/97XoT9Bf9BdoR38HH+mv/qK/QLv7W+zdr7/6i/4C7e5vcUJ/9Rf9Bdre38E7+qu/6C/Qkv72TVbMLPXWBfjhR+rvs11VW/8IoL/oL/AZ9DdO5tTz26lEggc+Un93RH/RX+Az6++audcxwO2YB0t/QX9BfwsLs6G/TzO3MPf1hc76ZyMs3ild+nV353/erDbf+/HuZwdfvF3cfn9X5+6UjnUePLKwvf6O3yn9emn3o7/ffNV8N8vdz74oHenSX/QXaH1/C5dCf0+8f6l0uOLoev5eDs+Xf3s0rvb2y6snq4EavXsja9d/TT+pTDN9e39Gf49W93e4MbGnv13pq85UPXPrdOxy15o74fDLP3ctJ1c/UVv95OuXc1nHefTAmY2lZp+f1l/0F2h1fxdDf0+9f2m0+sK3az89Wtr4IfT3yGjd0K2+0dSRUz+vJJaaurHV8c8Hh+tHaXfsrp5uP0gdxv041neyfoz36z9T65v8e0YX9Bf9BVrb38L9hnQl+nu7+kO1v11Dg43Z6zvX8PXu8t6LdQuNXdhSf7un0gL75ODGr0+k9neouvr445TjPPlquf44V7+sHwk+UtJf9BdobX+XGm5Aiv09V2zob/dS+v3DHXUTaC2n1LPvwhb6+8NIxo3K3+Xq75sn6aufrztVX51I2cUL/UV/gZb2t6NhBqzQ385iQ3/PjmRN4HEvcXX1q9ST15H53P0tzWdOFXIiR3//HMtae+xNIr9Dacv0z+ov+gu0sr+hcu/q+/vqfkN/981mz6B1M361+3iz+bY26e+fF5use3DT/i7cz177zHg4zuebHaf+or/Ah+/vQijN5fr+Jqz396ubzVI1FM5eizvr7/HzzdZdWt6kv6szzVaf6qnu5+tB/UV/gfb3N0ZsevP+/tK8Vb9XNjt+b4f9vdx85Qeb9Pdc89X3VHazvFTUX/QXaHt//4rf8l7ftL9v+uIr92cm3g1/kxibXDmx3FvcWX/f1jVwoO6q85PyKfbUmnCH00D556m75dVvJEY0j8wMvbuZuJo8sJry8UN/0V+gTf3d31FsHGHVpL/x9Hf+/UlkV+JC77H3m1hNXH0def5F98/Xf/lmC/19GJe8WlrL5cL1xCl1ZSKO9Pmv4ulv78v1lxYvDzaeAPcMxG3OXi517++8Na+/6C/Qyv52/5g4ne1fTe9v7+jDWwde3V4sFMb7w2083ZXNlHqT56VrHsX1r23M6bgwlLu/XfH8de/Gi4dWUl5M7e9yyP9A9baoZyGsA+9P1BNXqSc3xm/PPdRf9Bf4sP29OFExeb43Y+aoZH8HjtVGC+8Jd8j+Xdt+nIjqfZXjvFNTtQVP5e3vg8ZRYeWshjPg0Wb9PRZW/6K2+93h5bfrr8Rbf0dr81hP6y/6C3zQ/jZTSuvvULxXZ1f6w4JXw6Do9cuvy+Gq8kjYQM9Uzv6GQ5hdrK1/N9xs3Ky/l1OHZBcKM8kBXIWecEbc3xUWHNJf9BdoU3/P9KT092ZiVsmfar9IzGFxrK53P4QtvIoLHj2Zr7/hJuMDYfXxsPpik/6Gq9qJSbn+qDsr3x+O83lc8M1F/UV/gfb091khpb+Jhx7NhRtwEzv4LUwuVf75ZfieOvlQ4aFc/Y1dTAR0Zb5idiG7vyHTY4m93win1eVPG0+z9hPfMv1Ff4EW9vdUIaW/yeHS4fTx2lxCuJRc/rr5cerV37LOXP0N15lHNvnb0vp7IVzUTR5nOK8u9zvMffU6udmD+ov+Au3ob7ieG/p7LrGdPXk6Xh6AFQYqv0weStdgnv5OZ/Y7V39/z3Ocd5J/6bfJzR6/qL/oL9Dy/n7zoCe1v6XEdh7k6drZtQXDk4f+qDuWJ3n6W3voYfH2Nvq7O+9os5sNNy5X3dRf9BdocX8HJ7vj4qPJk8SavXm69mJtwXtZW4gbb9Lfdw1zYm6pvyfyHGd5qszzyY8N0TX9RX+Blvb33q3urEQmRzlvNidz7YS3v2GYctVEnv6G25S+30Z/X+U5zvIJ71jWXxovYesv+gvsvL/3apaGZ67dur6vYfHQ3+WMJjXRubZgmOmxJ7NrTfr7uu5+4i32N9fnhPKu5pPDxtI/a+gv+gvsuL/DORYfzUrP8230d6Fu45N5+hvmyTi8jf7eynOcl5L9PZp5nq6/6C/wcfs7nXdcU7jN5++6jecafzWRNQI7X38f5P2cMJY10sz4K/QX+HT6eziMXurOUv7CeSDlicAb5vP09+HOxj+H+6T2ZB7nauLDQO2JwBvG9Bf9BT6R/l5qeFRwhuG6eZZrunLNvxEeczi5jf6GST6eNl15JfM8e3lQf9Ff4BPpbynvbUFh/PLV5G9e5upveKU/MYBrqa+ifzm7v8/SZvVKM9Tw4MSUjxr6i/4CH7e/YfKqjqZbOBCusx6Jv+hZytXfsxnrHyo2TOyc1t8wedVPTY8zfKFevJL4TYf+or/Ap9LfWKXEvBrjl6rWx1tdSXmq8Lrr+Z4/GJ9fGJ9L9ChMQN2kv4WrGfNqHK8d5/rTJo6Ew5nIONPXX/QX+Nj9DTcgrcTXw3xVo/X97D1dW26x4//s3d1PFOcewPFN3HASxbf6RqXGFC6sWAgaY6woeBBRKR5QVLT4EhCPBxENMaZEjdUmJCZyY9I03vg3eGPS617zT5367LoMsK4L7I48+vlcboey+XV4vt2Z2Zkyn/+buDFkZ+ILyucWn1feXOxUc+ILSG2ziffZs+C4+GziC0hNb+a22zmov+gvsHr6m/j8mb0893LyeQe5CCZOAGeHCg82/GM8W2Z/v09s96Lhw4Zbs4s/1yb6u6nox9fEBdTbEi9/H15JnADOjha+gnSzLau/6C+wevo7fSP5xKS6/Ku/J243mX0ZXtqeDNjegdw1VGtPZsvt792mZIDz94bc2J14/vDs4v7OPSppNnGaOdu6I//qQEfi1dyn8vvJN9R5IvcvrW/O6i/6C6yi/iYvX85muw9t39xwdddM8rUP//518xI2OjPV09Wx4AYYpfqbePzB+zDe2Ti261jXwrtnLOxvS8/W/9SvDf9XcGJe/3vGXjYcfnUp+drx/I+fm/8YqJmpB70jC96n/qK/wOfu754bpW8qVTiJWsYjeEv292Hpn537VtOFhf+oNXwAPv6JJz4dyP/440+/T/1Ff4HP3d/MQEvJVu0vbHh6Zf1N3gKriMRdLUeL9Tfz+GDJn79c5u/RX/QXWBX9LX1v5Zm5m2XUnVxZfydK/XzyO0njRfubuV7qV7ftKfz4qWb9RX+B1d/f5L0hFxpPPuzoQHexTTrXl9nfzNjej/6e08l7Yt0u3t/MsY+/z8nkMxfv/1hsk4Oe/4v+Aquqv5lbnR/79Fs3b7sDo0W2efJzuf3NjHV/5Pd0zXsq8d3u4v3NPPlYwNt2zHuf94eKbHNmo/6iv8Cq6m/mdfGLm1obFmx3dGTRp8ozmfL7mzkwVPTSqamd83/Nzy3F+5t59FPR93n+1IL3Wb/oUHfLxYz+or/AKutvpuHbxZdBnzu6eLu6BceGO3ZnltLfTN2hxR+1xxf/ngPNxfubmX6y+ORu278Xv8+JnvkJH9qW0V/0F1ixscsF98rY/FVh6/0f22TPvRfJo7sj6/8svt3R9XMHoSf33/znlcOFf3nhdpFX595e44Kfb5yanPdN3r4T00V+y+zD54PN4TRu0+jI1Lx/8vul5PvsaP1f8fd5/87cWeDmY+9PY3/36SGA/gLpaxi7+OD8zGDvnd9uvfmhxGZb90+d772z6cm7Zf6ezRumWrvaJtt6b2/atbPUhrMTp2aLvDy9+9iD07n3ubbE+5z+80zufT70nxb9BQD9BQD0FwD0FwDQXwDQXwBAfwFAfwEA/QUA/QUA/QUA9BcA9BcA0F8A0F8AQH8BQH8BQH/1FwD0FwD0FwDQXwDQXwBAfwFAfwEA/QVWn8bW471HjQH9BUjTxEg2m+08bBDoL0CKdmXfe24Q6C9Air4N/b1tEOgvQIpuhf6uNwj0FyBFZ0J/Ww0C/QVI0ZbQ39MGgf4CpOhi6O95g0B/AVK0KfS3zyDQX4AUPQ/97TUI9BcgRVdCf18YBPoLkKLbob+DBoH+AqSoNfR33CDQX4AU9YX+NhsE+guQopnQ3yGDQH8BUrQu9LfJINBfgBTdCP3NTpgE+guQntFcfxtNAv0FSM10Lr/Zd0aB/gKkZnO+v1uNAv0FSM27fH83GAX6C5CagXx/3xoF+guQml/y/b1jFOgvQGqu5Pt7ySjQX4DUnM/391ejQH8BUjOe72/THrNAfwFS8sPefH+z3xgG+guQksYP+c0OGAb6C5CSgUJ/fQEJ/QVIy+VCf/sMA/0FSMmlQn87DAP9BUjHnu5Cf12Ahf4CpGT7XH6zvxgH+guQip5Ef2eMA/0Fkk7Vr6Uqjg7lypt/BKGBVMebC/6I9RcitKenM0tV1Y+aQVW19Cmw/kJ8+izfVTaYeWAIVTY+4S9ZfyEyG6zd1fYq8+igKVRZjz9l/YW4TI9Yuqvs/ZMHDxlDtQ9Bv/THrL8QlRNW7mofGd3x/n9zHOWvtt/8MesvRKU3rF0/rqM6Xmw5FeY8e73rJ9OojtwhnBv+mPUXYtKQezzedZMgWmtzH4Bfm4T+QkTGwsrV6eJRIjYZ9uIzBqG/EJG3hSuEIFaHPGBKfyE6ucfz7DcIIvY47MUjBqG/EJGOsHI9NAgiNtESduO7JqG/EI27Yd1qajAJYnY87MfbDEJ/IRq5A3fHDYKonXYaRX8hMrfCunXaIIjalrAf3zEI/YVo5J4L8NYgiNpA2I/PGYT+QjRylz+fMAiidtgF0PoLkcnduOCdQRC1htwdsFxHqL8QjdzdJ28aBHHL3QL6G4PQX4jEhbBq7TUIItcW9uQxg9BfiMTrsGo1GwSRyz3e8Z5B6C9E4rHLRvkiPPAFYP2FqNwLq9Z5gyByx8KefMUg9BcicSasWg8Mgsg9CXvyeoPQX4jE87BqXTYIIvcq7MldBqG/EInbYdW6ZRBEbnfYkwcNQn8hErnb1m80CCJX70Ei+gtR6Qqr1oBBELnGsCefNAj9hUicc9cCvgh1YU8eNQj9hUisC6vWWoMgctNhTz5oEPoLkfg1rFqHDYLYNYVdedog9BficDIsWo0GQexGw65cZxD6C3HoCIvWXYPAroz+QoqGPH6QL0PuAYR/GIT+QhwctOML4VSK/kJUusOiNWEQxO5G2JW/Mwj9hTh0hkWrwSCIXe5S/kcGob8Qh5awaM0aBLGbDLvyVYPQX4jDlsAciN71sCu7lFB/AQD9BQD9BQD9BQD0FwD0l6/d32uAr8ffFj395TNYc+3I8LP+2rPtT2tqavbt+xfwddq375814Gn72dr+Z8NHrv1lcdRfqpjeI8/O1lh1gGI5bu8/IsL6S1XiW+vDLlBS+7AE6y+Vda1ffIEyPgbXHrFg6i+Vq+9ZqwpQpqcKrL9Uxl+1FhRgKQW+ZuHUX1bOkWdgqWqdB9ZfVnro+amVBFiyGgeh9ZcVGfbhF1iWfguo/rJ8/7WGAMvUvsYaqr8szxqXPQPL99RJYP1lefltt34AK1AjwPrLcsgvIMD6S+p86xdY8SFo54D1l6Xqt3IAK9ZuMdVfluaIdQOogGeWU/1lKf7ynEGgEva5F6X+4torIH01TgHrL+UbtmYAFdJvSdVfyrXG0WfAEWj9JXXPrBhAxZy1qOovZV585aELQAV5FpL+4uMv4AOw/rJaz/76+AtUlDPA+ks53HoDqKx+C6v+Ugbf/QUqa5+FVX8p4+orawVQYa7A0l8+zb03gEqrtbTqLw4/Aw5A6y+rkKufgYpzBbT+8inXLBRAxQ1bXPUXp3//z97Z/TSxvHHchM1ucqw/QYiiQk6iF1hqCSQNoQXLi1QqLwdQA4dTC2lPbXnVEGLOiRheTExI5IbEGL3wyqtzdW5MenUuuPaf+u0zu92dmd0trbaF4vd7Yacz3dl1l8xnn2eeeQaCoJori8EV/IVO0AwGCgiCKq4oBlfwFzpBUxgoIAiquBCABf5CJwlbD0IQVAU1YHQFf6HiQvgzBEFVEAKgwV+ouBowTEAQVAUhAxb4CxVXHsMEBEHgL/gL1VxY/gtBUDWEBcDgL1Rc2HwQgqBqaA/DK/gLgb8QBNVcMxhewV+oqJD+CoIg8Bf8hcBfCILOh5CAEvyFimsPwwQEQVUQdgAGfyHwF4Kg2msKwyv4C4G/EATVXNiAAfyFigvbH0F1o70xXe4R+3m9JXpKl9SBJwP+gr8Q+AudZw0rutZcMbugt+yfwiWt6OcN48mAv+AvBP5C556/SrMXf7vB3zOlHQyv4C8E/tZaG62C3uZ9lep5TO/OV3bT+eJv6P2p8lf1+Xwq+Av+gr/QDyuLYaLy8iuSQmtbz+9UoueM3llT2U3ni7/Kxehp8veefqYX4C/4C/5C4G9d8JcxOPcW/K0If5Wes8XfWfzFg7/gLwT+nmH+KkpmoKL8DWSz2ehPyd/Qn2eGv5G2trYO/MW7e+oxvIK/EPh7GvyNN5rqjc/HukxwvKgkf9/SWX46/vr7yeO7c1b4C4G/4C8E/p4x/gq2bvTDRcbfwR/dbpkg2+rN39bzz9+7Tzr1f5+Bv+Av+AuBv9DJ/NW0wIuMx8xlWWq6ffud5s5fvuk881d7qP/b2Qr+gr/gLwT+QiXwV9OuEn/TFTyLxN+fQAZ/o2H9o18tib+BQHFCnHBCt8N/lL8nXBL4C/5C4C9UYf5q+wTgZOXO8rPyV1sP6Z8TJ/FX/Tg+HwuF0uHxAZdl0erThdmgX4kd7LLVxNEvX75cE35w/EduLhgKBedyz+018nf0n12ik+ufX1j1jF7YoMKGXvjmOIteOcZ/XdAvqSsd3votC/6CvxD4C1rWir/vib+3wd8f5q/WrH+ObBTn74e0HXg++FgydAPLg3Zr+Kum5fXPUe4H13IhLm79Xt6svs6Hs7M8XE/0wj9U+F0vzMkXfJOOtmLFVmL2wYk3KvgL/kLgL1Qb/vpoSP8keyOLDMMBtbr8VeuVv9EhvTCvFuFvZFRc+jUn7PMVORBb96MSf59JK8eWkifyd52qZAOYbOVLZjk1LfY5GwF/wV8I/IVqwl9tUwzcjQ5s9cdCyuDao3aHV1rd3p0eGulaOshNCG3v+/pusGP7+vo+6N0d6p99Y0JTSq9pc5y7Va/lgPVtYm7Tr2Q2Jxff1iF/tXe0oOu1N3+TRrh5It7bHTRoN5/i8Bs26kbmx8dHOxmejwX+LrPmzsPu3b8nN1n5wDBir3rzV6NOH4rXmxrR6z6a5XnDlo73XvrLTOOVBH/BXwj8hWrC3zWev+pixh7Ku3LiWPx1zW7z93bYDbP6d5rNTPIgSAhNY1R1Sx4Kl/TKDxZ9eVPs0nH98Vf7l27MDS/+qv3stqwwaEZWmK/Z9hSoh4ZJvG40T5BbYovn70eqSV83H8kr1tl/pg/D52vUvw3rn74dkb+X9VJQjK16Q6az8dYTYCfNfGIJU1LDzDk+Cv6CvxD4C9WCv4GEXv3Y/HIjLOXG2uZ++I/YNtLE81fZ8+Qva9L6XfYI6iN7ruDwvC/m5/K/rD/++sgsPVQ9+NvCLN4Lha/HjH0rha/tzLidsA7+aL4IjfLvKokx+3FM0q6H1lcx/tnmb4SM3T7heuftFy5mOYctZ0OS+ccfg7/gLwT+QjXgb5NieyM30gUH6f6q4StV3lg/nGDfY9MLvfEhVkwfy/z1LXnzl6yumDS3m+PwZHSvHI4vHBogDq3UHX+1NrrwRXf+TtHNiXOpOXfi3C3J0mtQiI+D2wgK/P1M7bwH/4IO6JDvJP5q3XoxJ/j8ybNhvAWo9L4wycVhq/SONRgFf8FfCPyFqs9fYmDIcGomGX5jvxrj71i3whto6zS5GVs2Zhxvs7ZwVOKvpk5N0fD+aEpXVGxis46fhVPv0RXd5IxDZTzPenkSV5yxxPXAX7aay//Wlb+L5E8QHPodnTY0t1nEldDvF4G/9xyRzHST3p/I3xd0RXycFznJJ22b2y/sgNVAj+RX8Bf8hcBfqOr8ZTG13bappAxZVm2gmU9O2UP4sOc2WdtTmb+aI/7Zblrlom4NHdkTkT5aBONftpoWabJzVq07/mbJaJ1TXfibIgP3snhkr91Mc9+DKbF5lufvI738P6G5mfcVe/JXpTt7xFndaYuwWSr+IZ6T+pkGf8FfCPyFqs3f58zGarMsJeWQZ8AyUXDcKIdFfAQI1v+Ww9+nZNKmZL48tL3P/mvS1LCyXXf8NYzW5y78fawXN6UXirzlptcSIiWZvvL8vR4Oh8eE5of8E/HkL8M0txfhgO1hpl0KY1PiOVP6I/er4C/4C4G/UDX529pjTDGawTgU0JOYEQ4ZJywyZqr0w3XJO7pWDn9ZANF9rgcWEm14PyN3HbmjuusmFFfgL0Pugw4nf3MO/7Iusk3ZVOwe3Yu81BpYK3YPov086b35e4u6viF4rRtt83tc7pbm9jfAX/AXAn+hCvM3vGBoK36wVkjFtGUsT+ngFrRYhLasOcZffoNb9a6dt7Ik/jJ7rZ/r4T97IpLmJDfFsJ9bIYvOdcXfPXrNGA04+EuvOsPyoXN65cvCjc44eh735u/Oq7hSGn+1Az7yPNlpb0hFIXYtcseP6sbvAP6CvxD4W0/8dcpf8HrSStFQg3TMpAWQmJzI4WZLyy/l2L/aN0XYi5BNTBrRXSqttflNOvWqGx3OPn9ZdsdC2LjNX/b+MtAk6bCAUHI1zzt6vu7CX7WhreVhbvaB8fRK4W8LH3l+mfNG0x/EtnxJk84s1uAv+AuBv1DF+XvxmbUelZaerGouU5BhViJUdC27zwyWxl9t1HZ9mtPNCcPmvUZLX+XtCBbdHLZ1wF9mtWbuSPyNKF5isLsvrxJi2pb4q35emBWfYin8nclwbWE7aMvneUk94C/4C4G/UNX46w/Oxif4hFRBt9QLDZZf1IjUGvqkfj9/CSfpHX6C1+Qr9X0od0qBQgf1yN9UzHKs2/y94Qm75oIv/ndHz20Cf5ONacfBpfCXvRCYXnDKB/1gxn627toHf8FfCPyFKszfozumZhzNndyCInuwChVmeaNG0g0luDsc+U7++jKF6U7NTMxkeqNpl57Rd5Io3XGwHvlrxC0fifwd84Qdc+o3u9q/V3j+vuL2KRoM57aT7aXyt82OPN/nQq6OPS+pEfwFfyHwF6owfwc8W2do4HVue0BW8TsDmN3W+Nzfs/49/GU4KrQ952Y8c14gGKxL/rL/T+ZY4G+WBThHXMRc8Eeuy25XOP6udBn7E+22X7lgeO1L5i+LaWaR59EEt9kke7fq8Lwk8Bf8hcBfqCb8ZdaQc+Dt58JhW7i9GZb2W8vnb5Oda4t13G7WT3vxt7M++RtJmzjl4p/TLvtP2OqTYsMNcfFXKbZdwyr/3lM6f18Xeqd8z0NW9V/SkrKfQ+Av+AuBv2eRv1OO6jC/Q1G+PW4jeGQxUC5/2V5Lly1CWGkRPfmbCdQlf1mVsizwd1YApKw7NDXuqOX2P6L9jaT8V/dL5m8+ZPr6p4X01JPnPtck+Av+QuBvHfA3K6ZpKIhWs37lvu9ceTZ516TjdLJc/i5a4dTEky3eL93s5gjdq0/719jiPpHn+bvqTD8pz7M3SZWBIZu/8/z9MtRTMn/Zot5Gg8Oddgrqv/Xa6+AvBP5C4O/p8pc1f5Yrd7q4CUNrBGt9bcQCrall8jcZMl2eO4NW2kvTP7pQt/fVjb8R+v894vlLtAxL5vzeUDA4ZDilN11Wfw3b+ScDD+ytKgqKl85f6mlwh93nbtEtLafEnFoLBjdbwV/wFwJ/odrxd0nYbdAUy5nR4fxx9IgmDwsTuCXzlzFjV/98KUxEXrUzYZ0T/rLQKeUTx18WFC0lwLpvpfdkycE686L5G7b5S5miFTHunAWQl8jf6CCLPB8SfeCvFGeKE0rWEcqDv+AvBP5CteMvobFXrlwuBCGr2WxWMJUiS8zCK5O/A2bSDTrZa6uWVqUunS/+sv9hIm7zV007DGB1zV4NFMk48l4Mc/sPTtHqsDHh4G7H+t9fPPnL3P3xd9IWzIGg0wCed+xSBf6CvxD4C1WXv7Qg6IG8tPdiASD7XLiybSkNlctf1dj9jvzQIXsiMkUo+SidumdpaamnfvmbTJiz5N3cdK3ykAcw7X+gXOMA2sXf4fdpfv/fefn+77JWYf+j37z5S/mlQ3EZ8RNssS8P4HsKPy8A/oK/EPgL1YC/Y4qc4dnYM9AIf150pCK+/X/2zu4ninMN4CbMYXMQRcEKihaUY4EiKCceBFwoIgqICCwC8h0s8s1igwQChK+EpCmNCQk12IQr7UV7w4kx2SsvjBcmh9QaUePJ6R9znHlnd2d2F9hddpbZ+vtd0R1Ytg+v85vnfZ/3ed1HBvjvX/V82Q79Nymrn3X6X91zNlIaEfv2r+WRh3/nlDXz8+7GJ8oRyjaXrzP18b+stisrc+u21b1/qbZB0h5d5XEYsLd/FX/LbGhfjFUWEWrm9EIus+Bf/Av4F8LoX6U9c6u+4ljer1Kg5Efy3GWObl1wyj1pHIB/y5X1xUGPquoq7wRY3t1aWhjB/lWKjrUFT1bRcVutZrPKG6Cl77r0OpZGxWJ7V6VzC1aZ5oezj4pc1fHcWYJeoV1Krsja2r8Lundzki+aisaLH0yuU3Z2t+Nf/Av4F8LqX+VmPKBpwZEl94WU8pWvizM9C3Rt7qbNnv6t2dq/ygvnPRYiLQ65lqhEe9rgULfPjoyR5N+os3r/qi20pezRhHmbOHm5W7PhK3pAXK6byJ23yfGQri1r6tKUyWppvNeWV1MiV5FLV+WjjKTexh/dfm4sSqhI8O3fLpFOe54s2Ce6anX2Dly3fSf6gida8C/+BfwLYfWvSNjqXEnuzIB2grRX0s8Hd2gaQmglm6E/Sc/Lv/U+z9i5q3SbfOxer5QLdjOTItq/6v+qZsPPsscRVOPxOjFM6K+WrORrnkFmGvVXy17MlYpNYMrlQmdjlEbf/lX2H0utXg1Wprr1b9u5asG/+BfwL4TZv0pJs3R1TWSmQ3J7JOmCM0PrEsuXao+IdLnBhHSn0FuyxfIPvdjav3Oqg9J1v7p4UPll02I69kVeqRQ5x8Bv6V+lwZTWv5aMCm1zr4Oe7T5Xs91XrxVVK7u0ilxLvlWtGnPLO5kqNf61HNT6t9x78kCZ3Zj1kaWf13ykay2xFvyLfwH/Qrj9a/lWlNzeGWh4PjooGjD3uy62iVv0YMVsw4FLXyvZVJIvycrvcScv93pjoU//Kk0VVU1oeCFmP0trZp8PNInErihC4uqwWq2+O0u2j31iRfdSRlxZ9qc/ROeNWbuPddboyYmCT5n/tZKKqR5VsHb31drpisFMKedqU9FhZcE2a22ixnbImbBa61qlnM4asZ83Zmxsw+OtrZ8+i8PXp3xhvzEuf6SyPLvjM/hngH/xL+BfE/rXsq9APxvZqp2NPOkxVZmZ5jPJHXVeP+3bv/E+FyItjib9u184FP2X/UvUVm93tdgVr/3eLTuyurYJy9xM0B+pJ/Zz+WeAf/Ev4F8z+tdSvKA54/3CvL7+2KGdquyed++G+V4r2ahurX+/9/Jvlpzptnrf7qMXNPOrku04fzC5lE09/BHwL/4F/Bu5jDx79mznvSXVI7MF3+R0Z47b6r2/efLYQEGpdK3kxvV67Z9o2Gq1utOyqNHsHKm1ab7L+5JC4qeXDvuUf8z1gjs50tmm3pbJz+2PY+vs7Fz2eE1e0s2MZeDiX/wL+PfzYWabiczo2p1/vjh4a/jz9n9B5P4a2foHla5sj+otwL/4F/AvQGhZk3QNrGRPKNvBYggN/sW/gH8BDKNaXhW/0OF+IUpeOY/gU6HwL/4F/AsQCQwrZWs3+pSSt+i0PKV5lqbjM+Bf/Av4F8AAxtTK729KCq5eEF+eXSEs+Bf/Av4FMJbVTv0OaKkuiaDgX/wL+BfAaGrjxjX2berLIiT4F/8C/gUIB458e3NZY8VEQp+DYOBf/Av4FwDwL/4F/AsAgH/xL+BfAMC/+BfwLwAA/sW/gH8BAP/iX8C/AIB/Af8C/gUA/It/Af8CAP7Fv4B/AQDwL/4F/AsA+Bf/Av4FAMC/+BfwLwDgX/wL+BcAAP/iX8C/AIB/8S/gXwDAv4B/Af8CAP7Fv4B/AQD/4l/AvwAA+Bf/QqhJXO2/cnd94ldb2Y+X9g+WjGcP4t9AyCocPjE2tbxgjwMP7At9/SNLi7Uhj3lXUn7KyY6WyoRToCcht7LKfsR6YqMa/+JfMC8bk8sJv/6YXSp5chb/+kvsrcvT83+DHWiwjyxGh+pxZ9/alUOEdGcqH6bN4V/8C+Zj5cropUxpC/Cvn0lYfkczt3l/mT+5Urz7+3b5o3VC6T8tI+34F/+CmRgq2i9tB/715w6yEsftPUBmjyzu7oFnrIggBsr0UjT+xb9gEoZHv5Yk/Ls7ilcbuLMHQ1ViVrAxbz/CbENQFLUV41/8C2ZgqVOS8O8uV31HWIAMmrsrQeVjjmVCFzTrI8X4F//C3nPJS7eZ2XU1vbO5VVf6+sdi1toenziMf7ctAErzWIKcvWt/eHOk7XE8ePB4NSalLy7XI289thFwzKtT9O+R9+rDu//d++3pGfDk6U/3X1/c/Md/9DE/NYR/8S/sNTEa8XY3DeTWryVt9a341ydR09r72u24m0MZDKvtSU+bqsrTRu1RgGNrRbvum/d+896Xf4cd+PnlB52D7e34F//C3mJX3XvnQFz8Dt7Av75uHGOaROz2chru9dfBydpi8fVbAcS854pGI+8vnsOt/vLbmz80zy2T+Bf/wp5yULHvYIof3sC/PipwD2qmUZM3GE+BUH5Uk8am+L0KnJ7gVsibn5BqQDx4/ZU75idj8S/+hT337wF/vhX/ejHsXvmdTmMwBczGM7dLqwr9i3myK21O3fwZoQbO/beumOfuw7/4F/BvRDLpLuLFvsGR8cxVOr6e4c+N+qEr5h+wb5Dce+V6hEnCv/gX8G8EYnW1crrJsm/QHHdtJEod3jHkMwvOb351H48GzZN3qWoYm5fwL/4F/BtxlVePXFPPw4yj3ZB2yrmcu7LTRmvXcvvmAyy6G566UuA2/It/Af9GGM6J0OZ+kt/dpsCu1p3bC3jGudXr99cYdLcp8BtnzCfxL/4F/BtR3HSuWrLyGwKOqkVVeeXb3aSdk8+vzuDP3fMy1a+HHvyLfwH/mot8Zx+hRMZQKFhV+3HM79t5xuHtL8gzJIXQv/vx0IN/8S/gX3OR6DxTlaXfEHFCPTa5oWurmK+pMf/4BHWGqB2H2o1jvh3/4l/AvxFC4W1129FpRlCoOKxOhx7cohHHojpF/fEHxBmyKixVwC0z+Bf/Av6NjNLnKnHbSihnAIUwA1anoP/pM+a1apH0W7LfUGbA6hT0FP7Fv4B/I4IUZ9Nixk8oSVYnmH1uA7arpVes/Ya2FYf60DOEf/Ev4N8IIF0tW1li+ISWfrWmzcfhtEvi0h9UPoeYP9VnyR78i38B/5p/9rlF3LIuM3pCTIa6v/eod+ONBnGFfb8h56MZZqDxL/7Fv/g3gK1HcQyekFMuNNvs8Iy5mhlvosuQ84t6KnAG/sW/gH9NzpzYKLN+nMETek6oNdAeMY9SF3+pvTJiG7B6/lQW/sW/gH/NjZqKjTB2jMDuswRLbXzFkQuG8EFE9xb+xb+Af82d/s6KbIGhYwjD8z4SYId64CCqNIRzYhNSFf7Fv4B/TY3o+9w8xNAxhqPCtYvamPeJQxfOoUpDa6DL8S/+BfxrYnpEfmZn5BhE+roIsLbbWDPFV4byRJRgdeBf/Av41/zFz6S/hqE2N9G0JBYpceq/EaVRXBQxd+Bf/Av417zcZe+RwSze9tgDHC0y4jdo0jC+FH2gU/Av/gX8a1r2iUSBM38NRBwz2ODaDnNLxPwpmjSOTRHzaPyLfwH/mpXL4twFxo2BfCt8e1xfffUeSRrIU4+Y41/8C/jXbOSKXn2MGyMRc/z9zluzmI/+E0kayXtdzPEv/gX8azbaRZqQyLgxErHFK1eN+aI47IJzj8JQgZWLf/Ev4F+TMqncpSoZNoYyLJ5yCkXMreLYXxRpKGd0Mce/+Bfwr9moV25S9QwbY0lQwrwkYh6n/Mc7FGksYgvwYfyLfwH/mhMhhjaGjbGcVML8hRLyrFRaP4eDD3u6AIx/8S/+xb87NL8SvSdPM2yMJVnTj1gsuac+wJDG8lKJ8zT+xb+Af03JcVGkwqgxGLHjN1XZATykfP0VggzLDqR5/It/Af+aknh6P4cHMefcJcd8jeZXYeEHEfM5/It/Af+aEbEx5hGjxmjEDuDTcsy/UL78F4I0mldKoDfwL/4F/GtGRCcmK6PGaOLcBdB25cuX+NFo/isOFsG/+BfwrxkRWshn1BjNsgi0HPMqyp/DWQAdj3/xL+BfM3JMpGWMGqMRk85jcsxzOXwhPIgjGEbwL/4F/GtG/s/e3T5FkRxwHN+qbIXa8wH0fOAUtS7UlREVMRLKh/MJFY94iYqEOwWDciRGQQUO9YyPkSdFRUQRlTsQD5BDJCI+AZZ6llBW6RurUuW/k52Hnp2Z7V3WyMqyfH9vnOnuGdwtdj/0THdPKs/+/TiZ5Xkc3ufq5hf4GOz8V7u5gr/4S/A3FKP1xdL5rQl2/uJZDEJ7+O9dfAx2/qi+0avxF38J/obu8lfR/NYEO3/QHjOlvOdR6uYCfPw4/k7BX/wl+Iu/o97fyfiLv/iLv/iLv/iLv/iLv/hL8Bd/8ZfgL/4S/MVfgr/4i7/4S/AXf/GX4C/+EvzFX4K/+Iu/+EvwF3/xl+Av/hL8xV+Cv/hL8Bd/8Rd/8Rd/8Rd/Cf7iL/7iL/7iL8Ff/MVf/MVf/MVfgr/4i78Ef/GX4C/+EvzFX/zFX4K/+Iu/BH/xl+Av/hL8xV/8xV+Cv/iLvwR/8ZfgL/4S/MVfgr/4i7/4i7/4i7/4S/AXf/GX4C/+EvzFX4K/+Iu/+EvwF3/xl+Av/hL8xV+Cv/iLv/hL8Bd/8ZfgL/4S/MVfgr/4i7/4S/AXf/GX4C/+EvzFX4K/+EvwF3/xF3/xF3/xF38J/uIv/hL8xV+Cv/hL8Bd/8Rd/Cf7iL/4S/MVfgr/4S/AXf/EXfwn+4i/+EvzFX4K/+EvwF3/xF3/xF3/xF3/xF3/xl+Av/uLvMPl7qdt3ng569PXOejXd+Iu/+EvwF3/x9z1yxuk71YMefUxvGY+/+Iu/BH/xF3/xF3/xl+Av/hL8xV/8xV+Cv/iLv/iLv/hL8Bd/Cf7iL8Ff/MXfkPN3wm7/Scdf/MVf/CX4i79Dnj1O//kcf4fK3x3euYG/+Iu/BH9Hqb+/DOLvcvwdIn/j/q+j8Rd/8ZfgL/7ib1D9nVlb96S9OUB/WwoOHnxSW+njVHeLnz59UtuMvwR/8Rd/8Rd//TVqf9D4WHP2YXnvq0H8XfCsrSJeO2fpnR6vcz05fFs/5vyzAvwl+Iu/+Iu/+Osjtb3Jljd9R/8i3/5WXnpobfzA8kIKGi21Z9rxl+Av/uIv/uKvLHUPvd72hwO+/G0v92pcUuU5141kW+WtBvwl+Iu/+Mv4Z/yV8PtY8r7nFsv9bSmXNO407gM/k9Q24C/BX/zF39Dz9/IUT+L1L+xMUxnzf4Pub4n0D59Wub/d0sYdeu1zWWXcAP4S/MVf/A3p9a/m6V/Yh8LytzJU/R3wceXhmMzfHnnblJlqbfEtae3jRfhL8Bd/8XfE+Zsfq0b9D06OSji95L57Y4JWOMHTLF0riS0zH5u+Zk9GXmHhuYSon/DXeduW8ipr9ze5pPddd5GhZpPM317R9uWr9mM9NxNFY62LW+8ht62tb46x14+/BH/xF39Hmr+z9YvS5xyOA5vVrSMOR6z4Yp9otFuilxz1HDoxLd7TB5u/vGy0++uVFrX+guC5Tt3tSrRcU7b5K3ju0qcaiQ7vTXVolsHxS+XUtcZI6FuL8JfgL/7i7wjzt0wv2+yYoWvq9jdGfLEvNtrl6SUbRMHrpESrNqvu46/E31qxJyby3hGDqiT+Go0FqG/0/XJlp8O+rPQba18afwn+4i/+jkB/p8Q538ff9V97cRO/Bn+9/a3RdyrEGGZxEble4m+dMeJZ6zu7nuoLSbcpO2Jo9Hmx8NX1Usu58JfgL/7i78jzd0y28338/X2GxJvkA/jr5e/1Ji1P9eZdKX78rfXc4O28UWv7QQsSvSYc3RTTifGX4C/+4u8I9deTgPxdLgVn5QT89br/68m9Jzdu9hm1Mn9dlqnCRS8aCmQDqYurRLpEUTv+EvzFX/wdDf5mxcvF2YO/cn+LmzrLbZOHpP622s9R2lHn8jf5V88T/CX4i7/4Oxr8HWdccl5+tezyxUJjKYjYUexvhy39YtnIlrdFEjKl/h6UNLxdo9U1+fG3Bn8J/uIv/o5gfzNPJy2M+m5wf/PFIsQrp6uVvzM8/n70+utz/atj56VkSv11dcqavrjua+1JkYP4S/AXf/F3xPp76GdROJi/R0V9pF477ZCYBoy/AS3/7NPfuy9kbc8r61+9w1/8xV+Cv+Ho76p8R6D+Jug7eUb1RXHE8I3AClF/m62938ed9X79dblqWiW+vnNXVPvxtwt/Cf7i7wf5u82ao2t2z547NJ/Vz9yn2/7eVaPJ35SpjoD9na/v/Nuo/k4cMXxzgEPU3weGkYmtHV3FnsvIvvx195jfeV2xTixwud6KncPeqcVfgr/4+0H+Sv6wn7f21Ngh+Kwqi0ukv3fVaPI3zRGwv69FdXaCEVH0Kf76ePrRG93Il4P6qyw12fCiwvI5aHK5xGSjOc2uUAn+4i8JZ3+VQT5b8Df4/o4P3N90PxdCf8Bfax7q1d2ioC0Qf9WqpjOeRyy4D38ltuvwF3/xF38/jr9O59bfDqW/O69duxaDvzZ/JwXub4wff4dvBnBo+nvPWDRDlFzw7W9zaa4WsVb03X7T44JbhMYPPGf/UUsB/hL8xd8P9zcyRk/WlQ0n0vSJLn8fSn+jlf88/tr8PRC4v5/48fcX/JU+/dfo3/b4G/+c7PVAQTFaq8+0OEeK6ADPFPeJK/CX4C/+fri/Vy0l2xdmqt9OUz/ws7ouJ2fddrm/5qpR7O/P/v1dZfJ3uh9/xw3bqwtNf3+09X/bRffXeUfir7jne2GR3d875gnApfest5KdL/CX4C/+DrW/EREn1W/+Pw3h59bmL/OPbI/6lfq7zuTvBFE9Z55XovDXkrvivSqZqa5v5VkJS+avsfrGw0vq45IWVIuFPi8pV5uNFSwvVBc3L+rpG+7pv/iLvyS8/Y1YrzwwJmUu/g6Dvz8ZRXNM/q4X1Z+E0m9liI6/MoYxV/R39N42XSlolPhrWn7y1u22tlZj/FWi2iH2tQJHaxX+EvzF3yD4G7FPKX6Evx/P33xRuNtLZHX+b7LtYcD469vfRl9X6ttk45/7fDTWsL5eJK28dYzxzwR/8Tco/ipeOmPw9+P5O9u+vqTjM4u/y4Z9sNXI8bcu2QeppTJ/61KkbSv0+8HtpZLK+OfMPyL4i7/B8fe48g02yVLimHBgdUyZfGGOsdH3D+QvDZq/S6Onz8qK3hnW/jpy9cIEff9sjsXfJDEQN0scsDtPz1n89bkAlsZujdh6VimZ/9sj4/qWMb+o2PtZDsldLvwl+Iu/wfE3Qnm83TbPx+7+Lh2SuI3/3GRrOvUrXYqUzUfMk4Y3JCWdUuf+JiUlKQ/rKXT/mxRpqVrvLvmr98XvpKQTvzH2Ho3Xu37xp/92Moz9zRYqXFR3965yWvy9YiyApS9aGS2GZ8XtxV9bKt9YbtXWGityOAdk628UlHg/fcG04EbL4URrZdFT1t8g+Iu/QfNX+XLfZwi72fzts26WuaFjl7lu/gxPzRL3/nH3v79aDrZUPUqUXObeqXRH9osPfGSu6eicSeHrb4bRuUr9ZP2U5XlOq79lglvnsi+V/ftLxH7G6Lv+3FGkpc9ni1fl4u3ZUV3lOaBIYfXeba+ja8rjzb+lfW+to6vae03XqIsaqlz4S/AXf4Pl70kFxtX6zqlE+4JLnm7u9mxb3T6Lvyt8+6tURaRJ5jmdUprpP2FThu30J+aGq7/bfM7v1YZcbfAUjEnLWObxYsbo8zeAVL5q6Gg8013dUxlY+wUD1fVtfSV9JXduPpeMrZo50N9Z0thW39vUzvqTBH/xN5j+HlGKL2vbkdrF5e+vZE2clVqo7ny1QnweVR/nnNhyNWvSp2oPLXG63d/jWzduPK10Xje6s8vq72r3Rq7tgvY37rKF+p8B59Qfdy5y//Tx47QnAG0NV39jB/G3rFBemzCMry6E/Q3b4C/+kvD2d6ly8zHnuLq9WBt2K5CcFKc+csfsdIK+lNXxa8rcydydNn8l46+MqhUr7eO8tKHXr7XtH9RnQYj/3hZ1aubqMPXXkeHfX0fMSlll9t5hfHX4i78Ef/F3SP0dq97vTVW3/6F2O7/1XPb9l7I6ZWK+trPHvf3NCqNuv/mydSD+Rnyr3MC0/PD/uEvWapvTlNNt/tUz0kvpAubsDFN/z+ZaZc1Ns0353S8BOHvicL46/MVfgr/4O5T+5n+tjnXSerXqbcejlsWxMg0h5yoi3DfVLTTdzw3IX/W5erPN85yUwdRHtG3lCbd5K0yVj5QecGSY+uuYPM8i6/4o+5Ib+Wvt/I7JH9ZXh7/4S/AXf4fG3+Pbp8Xot3jjYrUPnNL9XWY9JNUwc5PpWrHWQzWGWAXor3q3N9V0hi/d+5l/VjfVNY8XW2VVRB5J/mbqUBYG4K8j9rQBa9yeaEeU95JXp/7H3r09RXXkcQDn4RRTmLDeiHFR3Cp4EIiDYzll4QVRZBhQFGOQlDduQlguKsg1ERWDyhIB8RYEEw2sKAWRJUZUlLirpZRV+OJT/p2d7tPdp89luEOY4ft7SOacPrdJhI/d59e/Lpb1za0d/Wu/HfyFvwj4C3+n5a8Sr4Y0AHpkkdpM1905oz/lWAI3cztpXSq3ZXlOrZuMvyTbOUuaNpzs2b6gfkw0F+3IIZ597kP+xlaqoaN2lbpvm/nwiOWOph3FaeczIzwb6exc3Rvewppimo4ebS/4KvSv/nbwF/4i4C/8nZ6/psiIZM1xpEN7znDObpICzblVkuUpQd/U1X06qf5vTpSuk3ssWgCbQx7Ebbg1KQMV5kP+zkZEpn+3bH58OfgLfxHwF/7OpL+bD2vqkaTcfOM5q8UoMH1T7HBbXnli/tIUrgLRslgb7n5CRlitFoY4tMD9nT8Bf+EvAv7C32n5W72VRWrBwcz2cLmZDEnvM57zjMz5pb3en9kc1ONT9/couVid3BKm5XKZakafIhnR8Bf+wl/4C38R/uDvba+te0lziemnMFqsTsirT7oKQgKm5m9gljSkXCJhTEa5XXGGIK+Hy+Av/IW/8Bf+IvzbX9LTVcwLG9m1ss0hWtJW8YbjU/CXplPzLu15aTA62Vs9ilz4C3/hL/yFvwj/9jeUZNraLP0tZJ8j5Ump9szASfs7quVZbSfpzd9Jr54tIwr+wl/4C3/hL8K//Q0gzeY1f4t1b4Wf/Vh0ROCY+Gyy/tJ5Rn/QTyvI6DJPp04j1GZYRDD8hb/wF/7CX4R/+7vfag6QzUZWY1um+7lMDytg6wOIcs0T9veMWPCIkLvHJo1F75nSbwn4C3/hL/yFvwjf9tdGSm0sMi3PQE5aaTrWvZuuzXAkZ5L+frqOLfhLlgN2iv5zpmdvDfyFvwj4C38RC9Ffu25JXxY3PTtj6iyOfl2gLdwwcX9th8gUJs+/a0VdDxL7TEszwF/4C3/hL/xFLBB/yxmNuljCi2SsbG9vP6b7+SQFOdIm6y/xPGGLzUZWPdymqyUdv91w62MlJSV18Bf+wl/4C38Rfu7vj6Sra3gBXJfHazSXm17RFmrzcyfuL83nOmm7QuYWafnTdYpFrclUaYEl+At/4S/8hb8If/X3WbSuPKSoERlDazSHkSXwdG2kmlX8pP3NpB3qGs8/l0t7m8jSDPoOcDh53Er4C3/hL/yFvwg/95dWoXKO6rKvskQflLCqX46ISLrZ2l+Hd3/pqgt0/Xm5+GWIuQNMnsYeCH/hL/yFv/AX4e/+hseQEWVpBPo1GSxOUrOUA0nmcnGdweZga38PePeX1rqKN+ZbfeMiM4ALpT17yNPWIv8K/sJf+At/EX7vLy0PqeSJOUhuIqxymG2RjGXlwH7emEPXQ9pmRnZUrJhk7e8TVr2jXXfrnXTfH7y/u/cwrXK5H/7CX/gLf+Evwv/9pSnNSsymCFKXKnQ5rXRVzUtiBdIikUc2rD3n+RyZSRuTA83Ibmfvbb/YYu1vYC79fnmGUlvq6g4ZhZ7dga93uei91mL+EfyFv/AX/iIWgL+2ujRWdrm6LIkttCBqZNgi2fILMS57tPopY69VJ5fambsjT102yeSvLY6ea1zZNzBYvabTVRbFPsVi/i/8hb/wF/4iFoS/tsCD0br1D4Jz5BUaEvWLIzTVWQ4y7+Htr639dSvWKx2mJOiu/nUE6m/A37mKtxfVGIS/8Bf+wt9Z8Dfa6XTeHu+gteVJXEBn4mrjFOF4wWNCkdSY5rnyOVFjMkP2V9fEJht5dm21uPWlInFrxdX+Bepfwd85i3vsz9238Bf+wl/4Owv+TjC2H82vSS4qiAvZYtG28h/5jtTyDWGnjo1xhX1LktNq/hYROOlb792Wcig5dXdtpfsc6k/C39mL0iE11sNf+At/EfPIX58K+At/pxD1jNvf4C/8hb8I+At/4S/8hb/wFwF/4S8C/sJfBPyFv/DXr/zNPKjG6vEOiIC/8Bf+wl8E/IW/MxV29st+sbcDXOyAXfB3jvztfKRGFfyFv/AX/sJf+At/58xf1N+Av/AXAX8XoL9fZtGwH1+o/rb0lt7y2jT8fqTC281+eFxRen/MS3ecHS7tmCV/799qez9SOgB/4S8C/sJfH/WXVzWJWDj+VrXSGFwTFNT7IptUPnvYfOeV8aiNnY2sJMvz/qpuY2tv62UnqQTT3D8UFNT9rovGDQnn62/pAYqSl13fuZHvrhgZGTnN/gP/6vk8TJ9HPbuLPMIr9rlrSLvWY77vPd8z8PEeK8j68M5v3fAX/iLgL/yFv77g7wP2DXu7X0hlR++Vysd0tz6XC5Je1XdW77dGaW0fOs6yT5c14vt09Uyj711X9/foq6gqMcb8q1beUq/d7Qbf18q65Z1X5Ws8vwt/4S8C/sJf+OtD/lbU6y2Uupy3mg1QKo8ea60DL3VNfaVGf98qpnjTPSF/e2PYRpT2He/wg9Vx8scPjNeuvwV/4S8C/sLf+R472O/sMG/+VrMd1/ze30YDY0/FMHHbRTOgL8U4b7dR0QcGf18oFvFhQv6Kh1Oui84274n30M2z2eZr9w3AX/iLgL/wd55H+Ak1Ir35yw+YR888S/6aop/3b7OtWu/w83/1dj7zd9i6dWhC/t7lTS/47V7xPXScubvZ6tqNLfAX/iLgL/ydwxgNnfYlTP7Ow5grf5U2/YCvITpZOlTeOP72eNd9fH87+CvpbP64XXxEesBr31pR/gt/4S8C/sLf6cWVCBpuouuZlILUDMeFFaPmwyIXHWyqXqcoCa5Pgr+3eAR3SEp5Rta6sn85Lix2yw2fq9ePGPXmr3zASvY5IlzqQPN9a8Wu9F1FGcVlZU2OJT/7mr9PH/TFaFv/o+3vxbazuadRG4p+qo5A/6mM7a/W/c3u7/r2nsjUekjSq+rr6/mObM/nO+b6V4/48RXscZvl/nepRndfT2OD2Hq4Ef7CXwT8hb/TiVj2+7QoICCkmP9yjc+/ZND3pEvXi3LcNLRn5krNeeWxWlO1lF7VZLfbxT08nx3kALv0gjiVtx7WLpDP933Fdiw7IAlmj7vkQ/5erGoJClo/aOhFCgH7SH/4h86HfHuQzksSm0lv2zra7jYb/e0UV6ODwgPidusnVH+yytDdvqV7IfyBbzXQyUi/iCztd/AX/iLgL/ydTqxiv04dowdkYcti5YOWbTX2vKI2yO07Nxvbg/nrXl3+8xHDUZvJAXL+s7A2Ubt4Bp9Tk64OgW9y6i+y44nP+HuxN0gvJu1iihTkbJZxNcy/4Wmy9U7M+xlWs7H6Df7+bsjGKjV0aMfxdw0ntVFt5S+ErxLNO3jn+Smr61EhdsBf+IuAv/B3Rvyt0au2boXUR861GPvcpLVXRpubd0/J3xIuT5QYgHbz95Np6maq6VYxu3zFXyFgg0zmDTlhSj/iTOYg9ZkSlOv1/r6U06WI54a3y+Otv8D9TurW9cZpPtZ106OLznsp/IW/CPgLf2fAX1MkLeOHrI63PEAAnO6yao6bir8BibzpDL/6PxV5AlNkhsWtEip9w1+ty/hGznni/jVrBajk98NJutlAJH7S+zvSqQZ7yI2Nk/T3lc7/Fj7c/ZOci9WgFQpx6oer4S/8RcBf+Duz/iqfsBerkV96OaCQXSLVuvnfU/H3JG+q4Q9YwDvktEccZ3mr+KU+4W9/kDHFOFvOd3rbIuIpLxkpvY6VvOsx1b9SY03F0GD/c2WS/v7QIG+P6NKh+Z36tWfj/fE38Bf+IuAv/J0Vf5V89Yh8b+1Zap7zE1H0MO38f4I3G0+X/TWOY39t8tfNe3s7+AO6tASxgICjMdaPUuQT/mpzdlpl5K56/1/QLyVHV2gX/NPsb/dQV31DjOXspnHX/+V/G+iTJxurD3va+7M1wl/4i4C/8HeG/I0vupCcpW1W0xyqUK3T6rh2xb0vX9tOoVf4Oz9c7YSezNOnUMn+riwpKeHNlZ7PJ0z+Bjj4xa+opx/l2/R9dLAYco67fenmtTJBf4Qv+Ntp7W/0mMbxt8NO6YIfjf62vYnyPrt4XH9Fwlav9LpZ5X6Mvxu8hL/wFwF/4e/M+HuQjvAWJim6d7B7BHmZ6hkRYppS1qgsJmsO2MBfIF8y+UtinPrPn/GL1+qvlkX+MlDCc7HiV9HGcOFxuS/4+4ulv+u9E0fe+fL056vSBa8b/B10jlXdY1x/gy6zHR+15C2ma4L3Z2uGv/AXAX/h74z4m8LxEeWWzpNNoe33/BS3yLcKIZu8wHMBa77JR0FPTcXf0XhdunNAk/wstYrhYqF8drHdd/19PIa/D7SlFS569/f3satrje8vz2l+pE2NUvvqLWM8Wx/8hb8I+At/Z8LfYjFjl3c5lSbS5RQzgkW79kZ4twyskhim1nB+slON0an4G8DnQeXRclcn+OBsrNzVLhaPco3ffKnP+ts9tr+8/xvldfy5Sj8b6//s3dtPFMkeB/B56JeRrBFkvQFrzvAATGAOHg3RoAFZBlCIRkRwxYgBDCswHi+gqGwMrIM3Dt5A18uq68riDQ8e142oUXMCxARffPLfOQzTVfWr7uo5A/YQGr7fJ6e6uhl2YT5Ud9Wvul76pupvn37GwAN2zKvvvpRh/d4Ow1/4i8Bf+GuHv2IR7VJ207Fo4kWKZri9HBoAV1MHC8m2s1Ud3xr3UZiqvwvYxVZSX+Oka3Xwq9dpsdi9cEb95cY9PG7Kc7Lets9i/lU/KVh56+W7IbFiKWp/+TTnd/36uXf1A2widpf5vV2Cv/AXgb/w1w5/60RbCWvzuFw57N/UVdbBFxqj5hiqYeS3tX6Nv65D9I5zI705Ps4fPGfzsKbFzvX3r4gLau9p4uGsEdAuqfzzxaPhTYmGpjz+5ZO87g8b+j6J1XYL8Bf+IvAX/uq3l0nbJvaJ3utyPWK3g+lJnNzmiRf7zbcm/T9cmL6/O+jgWl+x5At9IVdFhDu1bc71tyvigtrr5F40a/JRf1m9yAGdW7FiKXp/h/Rh77/0p80D/YaB8V34C38R+At/Y+PvWdLG7zmvFcU18ulJu1iH3XSMSlPfPm1/Uwnuv+r/rJw8khzB30bn+stmWO19wI+/vR3OBIPn+fYLR9nRc1L9qxHjdsGfp+4v3wHxleFPgVF5K6ZJ/fX3NgR/4S8Cf+GvDf6Wk7bt7AM8Scw/pj67OlmH5NCrgLJAVmVwmv66qsQTZ1bu6oD8aFiRR871l8+fem0S9ArVlu2/MCLvv8CGqF/0k3v+sPD3XgR/r8j/NcdY+5hmrN31nLVchb/wF4G/8NcGf8tU/qaK2VXr6EntBOiJpC+stq4PPXV/2YrjEpdLl72oWH5Wrcg3zvV3tdfwiPc6m0DlXS1Nby46fr2/5V6XYf/Bc2LxkGG7YIO/LyP42yMV2jh9npfV4qNvfbpVyytarAP+wl8E/sLfr/X3mOr2coVY8pNHT+owrvqp2NVtqgzp+8c0/a3QPaoer9DrSmSHD8Tz3Q8zTVnkXH/F+l3f4Lub3x28X6DRLRd6Tlv+0dFFC0b6JrdP6BvxWfn7ZLilb7WFv+7X9LpP3aZK1Zp2bnj1g4PvizSL2tPwF/4i8Bf+TsvfNWmijU+vGhfLcTUPOSlb0dhcWpYp65A9TX/5M+dWdp/7Rri9mF15QYx/KmfY38cWVabWfJTv+Kr95ROkfbeejg7SBbtvDY+LQ0NoK39vKwp3TA7OByy+9hX4C38R+At/7fA3XOAifDuZrQDy8/9BwsBQxpmpNfK10pM2FZLP/6bp+svmf+3Una8d1w8wp0rnlr/8pSGjeu9nEf09aMnzmHlo67Py173XorLkHfW1RzD/Gf4i8Bf+2uPvTt50TSMlIBNoMSw9nXSE29kWTmL4mOdHvh2hNzhNfz16BczcPMPaotxYTLaaBf66R5TFn9l86KE/DEf+ku4BW/KsLyj+LSp/R0UnubLGqFL+fvgLfxH4C3/t8de3kY1u2ZRn7W+hl3zPQFFVI47WxKo0TeA6IpXssPI32dpfvujYeLuZ3Rgv2s1a9jfpueBof88/NW+seFcQ139Xrkp5T/L35hn5xBfsefKZg+HjF6Pxt0X06ZPf/nvz7g4Ph9zwF/4i8Bf+2uOv5g9fOFguu8fnWvl1Bj386W99gDwLLmpml0yU7k5b+ftrBH/lkh6HzCPzmqXhhmXsZG/A0f663WMGRDO+9NBLfBCTsAa+/P2qvEnRbTpDq+CzWL6kHx8+HYW/7jfSrC+a24ZdgL0j36H+Bvyd1endTLLDQW+8lb/rtgD8nUf+arXLm13xKWIxb7jmci9fHZPRPkFscH2uXHOK79aw7Xfd5zJpSbGVv/si+Dvupx/3G3h7kLfnrg+9/nOdJhXomKX+vj4cDl9V636utwySFUBXn4hveeC/xtU9PcOv35wZeNU1+H61qAnNqlL182nJawbfut2P9asffsGPH64n/t7XD8sFL++ws56bvoGeD2TRU9GtFtS/gr+zPKukvxgTnPPGF4t3fQL+zid/QyMb+kKf5dRAC0vmkR4Zk49wRVGqNdmLvz+Q0pEll2S28lfLP1v4bwt/5ZrSqaK9VLTGlVfmipu2KbPZ32jz0+cXgw/P3f00OtYTuSN7XPyCt/QdvfTp51tPf+uzPGf19bGP1w9Oe9Hu4zuvBx/ePffpy3B/bL55+At/bUyT9Lm2CP7CXwf4SxOnr0gK+C06LA8fL7Q47E1S+kt/MdZZ+Uvf1TbSHjyk/lrZrrngb9Q5PGO7Isxc4C/8tS+/yJ8Px77ycsvaeQLwF/7OgL/eX/jTWJ+yQ6W+IfAJi9Wr+g1mo79bo/GXKt1O25PzVF+qJjCH/b30TM9NXh1asSUS/IW/8JfnlGYxhXN6OSmutAT+wl/7/S0wlJD0kju6KV6Fed3F7PBlpc+soLTR3z1R+St+Cgvk7/efCoBr7H68M6v8/dlYler6RUOBDfgLf+EvTbrf3u3R4C/8ja2/WRvr6c9rUSLtlJhp5pWUvkrJVPAcsPA3vSoaf+N9dBEyTbPpfndcs2su+8uX72a8D42Af/pwUVknA/7CX/irZ4nxM4KX8IG/8HdW+utKOkt0jZd7VbTJQ+Cmk9Lh3hLDCNlfmu4y+HuANXjaMiR/a1T+8n2XtMumt9wpza2obR93zWl/+8hNiTOnX5nra8Bf+At/pTSYxgP74S/8ndX+TvzVmJ1brXn9VTvWmvv1LizX71B7404tMZFXt688BG1o1JqR2/AtOZ7QGs4K0eS5tiqnMbtxc87ko90TegePdMELemtrUPGm97c1TdaE8GY1bF8Rg5/K2TX/6o3FE/qBm/AX/sJfc4KZNu+PBn/hb+z9nfzRTY/wY92blJxg/eWDdcnxuy8sG5+RX7H0ihMJy2J18dnlb99eJb8ZY274C3/hrznbzb8t9R74C39nv7/IrPNXDXDBUTf8hb/wV5Fyxe/LV1UIgL/wF/7OV3/dfc9Ma7wGW9zwF/7CX0WWqVZEboW/8Bf+wt9p5T+X6Bj48OuPbjf8hb/wV5U9qsc1BV/zuQl/4S/8ncf+ut3nH398/vL4i6eX7hztc8/BwF/4a1O6lfMlFkY6JWFfSXd+dUG9v6kypzM+Wn+Ll7HIs0DTeLu5MFDF9s2FuceqC6qbChsXtSfDX/gLfx3g71wP/IW/9kTUDtAyyEKkbssTAqJmvV7ydiEvLuRqL5wIKXubH3pdeG3yGF9Iafj4JNW3kmSY25sMxYpyd9XBX/gLf+Ev/EXmgr9k66OtG8nW173q7mm7qs2D5do9bB3IN8rBdHhvGbExtl+6ZJvouJ62H8hSXGpN4Rb4C3/xSQN/4S/ifH9JeZ4D46Rc7Spl77p16tX12yrs9ne8wWIhv29nGvyFvwj8hb+Iw/3dTeZcBVyNmmE/c0NSs6w2oMlvttfftBLLrea0RvgLfxH4C38Rh/tLHr6WuVw3iHKKsn7JtdYo5gdt9XenFiHfw9/56W/gVM5kluOTBv7CX8Tp/qbXCMD2uFxBsq1Mh6nzeFUkFDfY6W9dUaQvlZcGf+elvwj8hb/wd874S2ZceUMfleSur/ke34ZIJmoZqTb6uznil9JuwF/4i8Bf+Is42V8yyaky9DqFINdqfFTsjYxiaMB8RHlk31T9jZdqchUc6l7nV+8PAX/hL/yFv/AXcaC/wWpDxY1iAt8RQ+dGacvzH7YvSNxQSZtqQreoPRNJFG0nQ6896VP1l9bkalo/uUdN8g7Cfy78hb8I/IW/iIP9/ZEsrF062VJGnrLKe7NVZND60Pp6o31rSCNbmWtR/2oK/pLbz4/4s97LPvMF4C/8hb/wF/4iDvSXbH101jzyvCb1JYU6tLI0heDhGVi2+CtqYuaRmpSirpY3Hf7CXwT+wl/Esf4GyJC2NNy0lFR8zJY6k8obmeRTldyCLrHNXzENu410PCs6BuEv/EXgL/xFHOsvGez6mk1DT62omPT1eM0D3VDIw958u/z15BWxkDG4px7+wl8E/sJfZC74SwaU21jbPmWdC5drC2lfSsfQgtUM28a/qiTnavAX/iLwF/4ic8DfXp9xidBELmhSRSzV49986Sr7E1m2xMzfupXLy+j0L/gLfxH4C38R5/q7iYDWq3rO660QnUlljYb/c10b/Q2sLN1cmG8uhgV/4S8Cf+Ev4lh/4wReVaKVVrkqFc1lytaY+vtnR5VVyQ/4C38R+At/Eaf6u5Z4tkndvE00bxOtnTPib0qkatPwF/4i8Bf+Ik71t4P6myJCnUvlvZsU1Zdj6G9xecRal/AX/iLwF/4iDvWXbn1kmcW8u9+6MHQM/E3O1+Av/EXgL/yFv3PR3y1R8Ks18e615jqTsfN3RZbivWTCX/iLwF/4izjf34Zo/NWSWHdR/FFLtNffRrO/Oab3kVWyJ9AAf+EvAn/hL+J0f+nWRxGSw/qT6hcH7PV3q8nfJLqrg1ZdtmplwPAXA/yFvwj19yT8hb/w1zH+JkbFr+ZnOx0UirZV/2Pv/H6aSNc43sROe6KuWC2I0CoWV4qoC+ZsF5EfIp6FCipKUYqAAamHHtuiQaOBxlKSJkbMJiRIdBOuWC+ON5wYE66NFyQ0ikElrp4/Zpd5p+077ZROh3l1qt/PVRlmij6ZPp/O++N5lPk3sZeoQXT6+RT/nqZHwK3xXg+V8G8OUcWnqF3ICcwnkvhAe9di3sm//B1+ZM17PtBH4V/4VyEt8vwbNyglv3P0+9j/Uxmjc33/Jh64D4reYCDFv9Ts7yWq/9EW+DeH8PApyoecwJq9iWcxMubwHH5kzTs+0JvhX/hXGf5ymf6NFbuiimVdtlNvRG0X3rK+f+8kDlNS1c3qk/07rZdsPxg9Cf/mEK18iipFTmDNTMIF3fzLZ/Aja97yga6Gf+FfZeTJ1K/+sqC6RurYUeqNqB5KI+v7l5pB3ksd7kzx73DiwAVp08O/2ifAp6ge5ATWWPlAj67FPI9/+QZ+ZM1HPtCT8C/8q4yLcv0bW+1M9x+8SL3R/dR1WWPSoqVmkEOJo75DKf59IrX/OGY/+DdHMPMp6ixyAvO7kgz0r8W8g3/5f/iRNR/4QPvhX/hXET6q9dGd2hToBVAtwiV0OciO+BuNSRTLGpM6UTSD/Gu80EakTZ/iX6oCVzhxeSn2/+YUL/gUNYScwBqy0M2+FnOyFOsd/MiaZT7QvfAv/KsIustvV+qve6hfl/tTBpr1J/NjJ1JLpe5IOHk39aYhelS7WvgecF6f6l9v4sDD+NW2Y/SJRfCv1pnkU1QQOYExUQcf6Pa1mFv4l/vhR8b8xMeZM8C/8K8iaJlJTdFRa6X0eeRQEf38eaRlNqorm3NSS6L0Vgn/Xqes6BUVszpX5S0IXEjqb0T8W5z6x3Wz90Un+uFfrWPnU1QncgLroSw+zvN8zMv410sQJGNu8XF2GuFf+FcJc5TKTkidQBegis323hW78uCAWJ7H04j2yonDxMxlgxnnmol//VT5jYOnp3V2U35b0oku+Ffr1HMowPElIOU38viYnyEx/xGG/BLbf63wL/yriC5KZdslP9TUCf8U9nC6GtZ1Z6Ok3elVVC0y/asTD0oPSmyV8sG/ObIB+AWSAlvImudGOuafYUi2HODD/Bj+hX8VQbc3qJY6wU671iMctK6nTmqnkO2ItH+tcv3rzHhiNfyrecb4JNWEpMAUO6k56SIxf8L/sApDMmUPmXIvg3/hXyXczjT8LO7OEB9ZXqcn76Vm6uIraboYnpK89EqKf4sGMvl3CP7VPNOYAP5i07+ccL+Z+B+WoUim3OCjXGKAf+FfJYxQJkuTH2do21liD7an0vnwhIu+uDWNf6cPSVx6czi1/9GEZC9EqgRIWxT+1TrtHCpgsYdUv2oVx/wWHMmSVT7IE0b4F/5VQBnd+iiNtiKDUo6OnJPW77Fp0cXR69L+1XlTmy499JWm+pf2anwfchFdgPK+H/7VOqQCpRVZgeXwc524EnEQA9Dsh59f80G2wL/wrxLo1kfX051EjzXfTJi1W6JtYbkzmnTx1XPS/tWZLokvPRKK6qT8q5v4V9KJTp24aFcP/Kt1evg0FS5DWmAH2fHLLYhj/noPLMmOV3yM3e3wL/yrSCOHE3jSnTRFnXTCljjudyRtIxqslBphNP/QIFlFsixwKrG76GTljjVZ34n/IUvixKLt1LLn8srNa8eCiX/SHRN/ViBxwAf/aox+4oZZpAV2NPEh9iTHHCugGbLChzhghH/h369AtDF8vIEscT508wdzJN3ImOW2Oa91W8A64xWPTl9tcrpb2v7tNFui6/4dU+vpi1eO6BuOX/C4NPLFBf7NCrI1xom0wIxCd3IjHtL2YvEBNMm2+AYpuA3/wr9fZ97JNTo7GWH/d2wRDf2n4d/sENbmViMvsGKKD7CDutt2ceiBxJb9pOCYAf6FfwH8q10MpDVAN+4cRvhDfIDHqJhXOMkDMDzJiGfkC86wEf6FfwH8q2GE1UFoAswI0vrXXUPHvJTE/BVMyXL2t2sr/Av/AvhX0w/A+/hkVYcl0EwgLaY4s9Sgw/JTqJLd4meu1gj/wr8A/tU01SRbzeDeYYDdk7T5iLCDHH0LVzLgKen8G26Hf+FfAP/mxAyww4ebR30KiGjzk2PuQREsZrwlsS02wr/wL4B/NY6f5KuqCO4etTGRLgDzKbdahMR86SfoktHos8cA/8K/AP7VPGSJENogqY5tn1BfOzXmZvKb/fClyjwnlSc5mxH+hX8B/Kv9IlhhYcEKbh9VsZPiJlywIjXm7aQnIfcexlR38ndRasEb/Av/AvhXo5CWeJwbVThUZYiEtatGKuaFHMpQqs8fK8Jkyhn4F/4F8G9OQHrCcyE0IlQRr2DYq9IxbxS+9KAMlno8+EiC6nhphH/hXwD/5gT3hPW4XdO4g9TitqBfb7oUHRS+9NyAN9XS76oQ81Ej/Av/Avg3R+gVpiPDFtxC6j79BtOuw+0XVmc5UAdLpcFn4en3a0/+wr/wL/wL/2ZDWUiQwWPcQypg7xBU4FnnLlsQvvRwv8Cdaiy9EuZ+uSYD/Av/Avg3hxDa5HFurx130UYp6hNUsLNfzpcebnUP9LlRni3FRhzqjfAv/Avg31xCaArwd/7y4zbaGKV1QijnFzJ86XEIJy4+h0A3xucSIZTdWvhcw7/wL/wL/2bDdEwG89iHtBGiXnfs6bc3U8yLhK3XXMkvD+BQ5fwem/rltm01wr/wL4B/c43mmAy4vELcSUqxVMWi6OnPHPOXnbGzP6AYtOKFV59ex6I4cc8I/8K/AP7NPXRxGYS8NtxLStgV4OJPYrJusBpn/IJVDEIr4s1iPIRjBiP8C/8C+DcXGe+LZ7JwfhHupmzxBdzxADbKVEH9UPwS98dHsGm2e35fJewbNmnlgwT/wr/wL/ybdd6ojSczrmQK5bCyoax4WyJ42wvlB90SSly38hlLobPg+fulROy6e43wL/wL4N/cpagqkdC4nWMm7EaSRWSHNUwFLtCfTcwXgtSlJauv/gexynnyffbpABU3d8E9I/wL/wL4N5e5V+ugshoXzmssxVzwuvjn8neLYrbPl2XMK0rn6eu5xbefnz2FYdOr98cbP39cFoVs24KmxpHwqYB/4V/4Vwm9AS6J7Z6+iY4hM0hiaKop6CxJCpajQEEBiGtjjuSgv146sLIfJPPnyuJSSqz2TWpsHgeZGP6Ff+FfZUSbOKCMkLdfWcz7vSFETxlVFoMR/oV/Afz7jbBpyo28nj1dZ8c3sPr87HZEMHt2mwya+/jAv/Dvd0jEfB7+VWsv0rAHuT0r3HmTG1wCZJhuciCO2VDnfanFDw/8C/9+ZzQfdbYN6gkj8K8aLAwH8RQsk/CEZVyNmG+dNncimjKffM9GKjS6jw/5GP79TijsMbe62w4f0ScIwr8qccb/YqIKmX79Kd9uc7VdzTHQGlNjoAoPwut92+nuGPaf0fA+eqRl+PebpHSv94m5w9rU170zPFJ56viVcn0KA83wr6rZpMZ21VL9uBgk0TNa6oqOs3kGM4wv2PyuXSCJwuZo71bNf2KQqOHfb5DoBX1mBnp08C8AAP6Ff4F6BDPbt3xEZvMe+BcAAP/Cv0AeLZns2+BxyX0v+BcAAP/Cv0AepzM+/jaETPAvAAD+hX+BqsydlDEAXQX/AgDgX/gXqEpty/njx66fuHl4YPBgWgPfhX8BAPAv/AtYYfONHh3qqxs5t+VykoA3w78q55PxBXuZDYiJlOl625kUP6y3Tw+PTeUFW3eDJFr7AuaCaldNBfwL/wJtUFibd/fhr3H/dsG/arHVXzzUOo+KD+mrTu7sGxuNqmjhfsuME2HNSMm2s4X18C/8CzRCdHPdFuLf/8K/qmSR5gLUgJZZA6uveJMaId90FBGXjyNguQb/wr9AK1Sh/4JKVBTNoB1Pdm3wbvduLOTXqiHfrIcfJgor4F/4F2gC9B9UaQKyGlWfFdDnUi6D8cYwAqgEj/YaEMK/8C/8C/8qnfQdxoyvUhlMKzNwvzeE4CkeebAY4F/4F8C/3wD3NnelZLjlpcUPB4CYDx8Wl16nhMp5VUG+Hk6yb2ewY+/wXOmkCSRRaumpHZvoLkn62mODf+FfAP/mPIXikefljz+/ef7bP0Aa9jx69W5FbINATZYhbxYteN5pnW3GJzkDdl9Bn2i8fmgc/oV/Afyb0/Rb6aT256dHMKwM/rj1fpFel1ubzXho/Qx16b78XfgUy3XwXIAaNviLvbt/quK64zjujDfOjUnEiKJUi0ZiJdiIqQ81PgtpSOJjqqRJaiyO0olVDHEYM1FT63MgQRSxRlSsjgrlSYoDanGUwWo7aqJGExPTP6bcPefs7r279wnuwi59f366d3fvncmJ577YPed8z7uV+Iu/BH+9fPNrmvP87+lVyBp76u7fM9puUey3wJdMk56T0jPow/Fk/BzT05ptf8Zf/CX469UFv0uNH7NviyE13rvgn24bd2OxjgKn68+u38tZSweO/yZ4tPHw/v0P8Bd/Cf56Msu3Gw+e0bc7Kb1hCDw2ponQxl8823nw3M2c1GfrD52Iv/hL8NeDmaXfSNz+xv/002jarXvgR/r97KHog8CD9KHfvK/ovN3O3g/fU1UpR+Ev/hL89VwuzVXPQR+m4Wj3M+FHfTR3SbSVXrvUpTl76bs9SWWy+sf7Bf7iL8Ffj+WOWvR7j0fPPcyTGbIpU5+N/Cu9SVWPHkzP7ektsGrLpyrxF38J/noqH6iJzz82A2iPp0KrUeAhkWbkThquFvxupOP2PL+Sz6BnFOIv/hL89dKyX/X87mEpfPY8Wd/J5twVYQx4oardRLWNhGSmXAw8LgN/8Zfgr2fyR7UGdTp2JqYq1ouyQY+FbfNhat4zQ78JSrocQrmwBn/xl+CvV6LmAd1AzkTNg/5eNumwME0+UA4Sb79Dr01UKmVFyiGD8Bd/Cf56I6ukFT/hZuKWAv8ghyMH2jb5ErnYq4C73wRmjPyjZin+4i/BX29MfZa/Wo9QM5F3wN/K/ZBsVyGtkDvnMfab0HwlJ2EV4i/+Evz1QObJErr3MTOhOSe3ZBhu0+Yj5VQhal4lOOvlNhbz8Bd/Cf66P7IE4ndsMpjgtMjNga17086T081H02MTnIwhomUX4i/+Evx1fS6Jp89fTwDMROeGHOMdFOZPnkN02IQnN0/UwbqEv/hL8NftWS0s+AYuE5/78jY3tNiJ+JMneSIdNvEZI9p8Nf7iL8Ffl2et+Ln6ASydGAIWWwKPWx7c5h/KpUn0VyciK1Hm4i/+Evx1d94XT5+rwNLBJ9DB62FmiUm6SXRXR1I4rs9vgPEXf/EXf6NnFHWvHI1YhLQzaCOGY2LThUK6qzMZK/5NT8Rf/CX46+ZsFxv+nkVKZ1InLPjI1ORrxOjvCnqrQ5ko9hLZhL/4S/DXxdkrePgvUDoVUQh6qGkjpDlymx56q1ORi4Bn4S/+Evx1b8RMoHvc/jp9A/y88dv8gnbg53RWx7L33T6uQom/+Iu/+Bstz4ot257ApNMjwEl6m+cKkNnz18GInZVfmIS/+Evw161JF49Cs1DS8SnQfwmefVVAX3UwG/t4Bhb+4i/+4m+0iKWSL4Kkg0kTVSi3yiafdEE8G6WvOhmxu1QK/uIvwV+XZt4OSl85n++DZuNmiPKI7HvkaFLEQwb8xV+Cv65e/Ps1s68cTbFY7itnQH+kvUulqzoaub/UGvzFX4K/7sxCHj/3Qs6Kekw/Mz/yH0FXdTZztWauxF/8Jfjr5uIbzH7ulRnQogTHJLE0Zgxd1dnkaM28Hn/xl+CvKzNIFGKqQ0hnM11r5hytzWeJh9F36KrOZnCf1oDGX/zFX/yNnEti+LcUIXtjADhZa/ORrD7qlYgVSEPxF38J/royldpv1C8A0ukVSGIy0JJAm4/WXu6ipzqcDPFsZzn+4i/BXzfmpPYTdR8gnc5traEHBtp8mxiXpKc6nVe0hs7AX/wl+OvGjGDrwd6cgDUy0OZiXtBoeqrTEXML1+Iv/hL8dWN2aT9RN/CxdypwDAu0+SLtZTo91emIf9xj8Bd/Cf66d/lRMT46nYfGAqQ32XyhdyK2YDiJv/hL8NeNKWD5Ue/kkdbQCwNtLjYfHEVPdTpioH0O/uIvwV83RkxRacFHp/PEKAYhdl+g+rPjWd+XWwDjL/7iL/5GTrL2EzUBH53Or7WG3hZo86GiFiU91emM7csdkPAXf/EXf/HXRf6OwF/8xV/8xV/8xV/8xV/8xV+Cv/iLvwR/8ZfgL/4S/MVf/MVfgr/4i78Ef/GX4C/+EvzFX/zFX4K/+Iu/BH/xl+Av/hL8xV+Cv/iLv/iLv/iLv/hL8Bd/8Rd/8Rd/Cf7iL/7iL/7iL/4S/MVf/CX4i78Ef/GX4C/+4i/+EvzFX/wl+Iu/BH/xl+Av/uIv/hL8xV/8JfiLvwR/8ZfgL/4S/MVf/MVf/MVf/MVfgr/4i78Ef/GX4C/+EvzFX/zFX4K/+Iu/BH/xl+Av/hL8xV/8xV+Cv/iLvwR/8ZfgL/4S/MVf/MVfgr/4i78Ef/GX4C/+EvzFX4K/+Iu/+Iu/+Iu/+EvwF3/xl+Av/hL8xV+Cv/iLv/hL8Bd/8ZfgL/4S/MVfgr/4i7/4S/DXy/5OrQifo9E/fq1DpAp/Cf7iL8Ff/I091b7w2Rf942Xy0i34G2NSFkdOKv7iL/4S/MVf/E14Un2Rswx/8Rd/Cf7iL/7iL/7iL8Ff/MVf/MVf/MVfgr/4i7/4i7/4S/AXf/EXf/EXf/GX4G9/8Lcdf/EXf/GX4C/+Outva5ElLfib+Pz1VSOTVeNvMI7l4S/+4i/B3/8rf7snaHh/D+Bv1HyuGj+3v/8S4C/+EvzF3275W1XxaUn75rbNtU1nDldF87eluqGxrMZXU7+782Cd9buKW0vK2vZc3lx7sSINf6P5W3hyVWU8X5m7NWXsscGVd/AXf/EXf/HX+/5+1jnNNECZ3bjlXAR/01prTBdPO3Ul+LtOnDedvfzPqfgb6m/BW1oudL1MnzK/62Ry16sL4uBbM/XLVsgjw00fXfnm55nyf9LipFH4i7/4i7/4621/WzND5wjlXw3rb0V+6MW1htb+tM6Qk20V+Bvi7wJx6PUBA3Zma68C/q6TF27SL3tOHvmTfmR88jpz075UkIG/+Iu/+Iu/Hvb3us0k3ewTYfy9Mtl6caM+FDz1vPVsK/6G8XeGPBmjvxtfDW3at9PxF3/xF3/x17P+3rJdJbP/nK2/dZftLr6opmS125ycXIG/tv7m+OLyd+tvrG37iWueQeMv/hL8xd94/W23X6baYetvmIvl3XKD7cl1Rfhr46/v93H5m7vArm2/nIi/+Iu/+Iu/Lve35ExIisV4rvFjXl6/3xgJbrTz96g6W3O39XRDiX7xde3s1aDbXl/oV+FvsL++uPx9zv4vn534i7/4i7/467X6V4e185/qSh4JDOCeVgLX2/nbqk6Kyh1X2uT789rb4/od7+kj/nPXjHvlo/jbU39HG0Pzv3tjygb93esj8Rd/8Rd/8deT/tbKd7vl9QfVzbCdv+qO97S8+IFahdQcGBtWi5jaxJ11qf44ugl/I/lbEIO/+u3vhlWBt8P1weAd+Iu/+Iu/+OtJf8tDhofV8+hsO3/V2qNTZ+V852x54D9db06HDB37D6gPt+Gvvb+zdx5Kz9DmUEXxd6Vq6D/I/5Yv1Afm4y/+4i/+4q8n/W0q0dIoRT3bFMnfevXZstbPROUOWUm6NPBNll2V9LHlIvy18/e3e/WDUfwdrj6iV+NYpI7MxF/8xV/8xV8v+mvO2aLqfb5I/jaaVyh1Vgezul+eeGxUtVTXVuOvjb9TTEUko/irlgq/rJ8erwbqU/EXf/EXf/HXu/6eu/rgYm1+trkCh52/N0O+ovxUR5b6ilI14/nybj3qupv4a/U3s3BAzP5+qe6YV+r5RB76O/7iL/7iL/662t+azSHRCzenddROs1bAsvP3qvW6dU2yVuXUCHveXsRfq7/vDIjd34/Dt+1r+Iu/+Iu/+OvJ+hv+LeV2P+u2/vof21w57Yy2zVFxBH878dfq7444/J0fvm1n4y/+4i/+4q8n/X1s/7Nu729aid21ZVWh1TdCchx/rf6+Eoe/meHb9hn8xV/8xV/89aK/HcG/5pn7Ivrr9z/YY2NAk7k2lk0a8dfq7+rY/b0ToW0X4C/+4i/+4q8H/c2qMc+mulmRVRTFX/+Bw7uzLQh0nT6iXu/Jt+Rf+Gv1Nyeyv2+Y739fwl/8xV+Cv/3L38N6IcPHRUFFnMP625Xmf9zNt9zgpqnXt/x9HC/7m6Qfecfsryp39XaeJYvwF3/xF3/x14P+nlL83goBOZK/gRz5W2ebaTFw15GaPtvwtx/4+0t50NB0g9lf9SbPrb8E+Iu/BH/xNz5/la8N6kBDBH+rj4vIlcOlJ+7qADf7/ef7ZLJVP/H3ZXlwrjowcrLZ39fkm8X4i7/4S/C3f/hbHlKzubQ9gr+ngrY7CuS6+vYjxkTqzGt6/clyGepPRvN3tjy4TB1I9Zn9nauqPRtflLJepBB/8Rd/8Rd/Pejv5ZAKkQcjrT+6qIQttlR4zvL7r+jzuERtaH+Lwj27GX+j+KtGe9c9L3XNDvJ3qXq3LEN+YJPPMmMLfwn+4i/+esdfdbtbptXQOFCtnnr6Jtv4q+9wVC9Hi5tVhcn2wIc3q9P5WwL7MVToc7R28/w5mr9T1JUf/4+9O3uqIrvjAE4VXd0WQlAkeg0Sq+BBFiUQKQtEQVDCIiogrhckIHpBtsFlpEARF3RmXMYFFFISxzBE3J2JipmMM5JKTaVKX/KUfyf9O72d3uBaUbh9/f4epLvP6b4NFv3hnD7nd9iCvgl+weTvgPZ+WNit1K/VBmwJbfAX/sJf+Pv/+du5Xo6FjkWx69cvWjsHv9bP5TsqDHN/9Te4/7h+8t93D3NDmh38HdJ1Fib+9eLG3Xd65qyfqfgb4+SXExMXTLOT4O/0/p7Qf1j+itOZ9dz/g7L+7w59v2r7xfaoNXpCjl2h8SSAv/AX4WF/2Ruu44616N3Yvjn4tV4gf253mPv7wnVe6bjD+OcnbpXZC94r550L32H81Yz+Drr+Pyj+tq90Ls1YDH/hL/yFvx/CX+E0/J1dfx+8cnvuH3Xwd+iec111ycHvLzgV/vF38HdGfyNyp/c3YqNz6akQeRLAX/iL8Ly/Gcvm1N91iYmJ0Z+Uv9b8k4Leb/zIaf7vL46JmB5/pV7sqAPAhx9g/lEQ/i6fwd+IMqfCSwPwF/7CX/j7YfwVuqLn0l8ahbr20/LXeAOsqHvlsbZ51Sn/xk8P7QjcMRq4z/5pLZxYjfm/wfgb0W3+ubXGWvyNWGr/26ciKVSeBPAX/iK876/wNHT83Xz8+PEOr/urJ5i87lbjjbGiwrk38+b9R9thSZvPW/X+9q6lx/rhG9PVfpkw9T1/h/wbQfqbksUvrpxZEm/1N6I2z/yTT13wNmSeBPAX/iLCwN+MiyHjb1jMP7pyVI0rrlXGXzw5f094dfnx51RnXDuBTdr93n72s7//fEdJPZl97sv//mi73K2rEy9lSrJfnv/LT99+2vmvTu1SwtRNHFAPHrPWjgqog6z+8EVLRMSoWu0AV+PXl4wR6AWBthB6EsBf+IvwuL+bqmg9ly3wdw7it+9ZffWDoXH34q9Wr567byV0/H3fGBjujW1uGZymhu/aqfvbMjO7s56nhNSdw1/4i/C4vxUllPXnNfxFfJr+ejfgL/xFeN1fidIQZA/CXwT8hb/wF/4iZtNfcRcN/cyf2d+GJZ3xLWMlovPFKn05vTfjItNdPy06qTa+JTlS/JD+9teMxvfmtIvwF/7CX/gLfxFe81fyUQ901gz+5sdXqGNFC8qTbVfa0rxNTV5fXzYl7y8JBAItfIWU3Y3qGJbsimEjy6VcjY7HyF/L39KRHnkrgd2bvGGbmDwoH9yu7/WNVKdp42J64C/8hb/wF/4iPOavtJdY3D+tvz0b+FkYgTrzhWq7+PR8i0Tpufmd8m8O8fM8hPlx6vFS/uhWOrJd3oiljUM0IcR6wwH5YKm2k9zKn505BX/hL/yFv/AX4S1/+ygRX27fNP7utSQhWPWWr7zUUlo1ZfY3pdFSwb9iRn9rac09S790P2VDWKe1nS3XLC6Bv/AX/sJf+IvwlL/SEmqelrn7e0DJk1WWMLh8/SaWEqg4wqi7Wc3Ld6r54lgiW1R1fgvvbwNrO6d2jwzvH4tfxFZ5a61kJQkxMTEF1KaVv8YsNPkr1mtbRlBho/qud5/yd0DW6GDhogq2MFzjAPyFv/AX/sJfhKf8lbKotVnj5m8P+8gyVb6UXYJ+HusHVt77jqm7ywjURt5fRvKiBk3j07R7wGX8le6vRLl3c833e4muo74JZh+6Q72lyEvsDwAR/sJf+At/4S/CU/7m07vUPNHFXwLX32kMxTpFdxCv/SLOZ/fToBevUF8Va/4uo50F3MeW8m9xXf1NodNML6WT6IjayN0kbzZtNZ4GLJXXRvgLf+Ev/IW/CE/5Kw1SD/RSZ38L6QNNE4RjKGeWur3c3BqmFm6eyd9yapry05Lq5M+qn9FfRqxpbURqpO9UNhPoA0xjnulT6kX4C3/hL/yFvwhP+Su9lreLfE7+ihtsaxIlkdYXjdZstnnsU4LJ3zzbi9xWnlxXf3tpYhE3LVkslg+MsM10GjB2yHTNKZr/VAt/4S/8hb/wF+Etf7eQsrtEB3+bqffZMhJ5Dy1DrqTdSLP0Lmtn6/7S4KgkU3G1ofc0/kZTZvxCs+orlaUSaXhX06T5M5/Kx47AX/gLf+Ev/EV4y18pmZZ5OeHgb6k9O4fURlizrRpq/vZbigt5fxNiY8+Yi2mJuOQZ/WXIV5s7vdcom4esXdM0x5iGVcNf+At/4S/8RXjMX2kB9UCX2PxN9zt07PbThCLWWF7HvQo2fjkLnNZ00OKYEJy/NMY5W2/lNlAHc5uyTXOTjlmu2pctCBnR8Bf+wl/4C38RHvM3mpJYVYlWf2nUcbbtSjTBiFndYRrMzM8UcvS3cv+10tQg/WXviX+l7Zwx5iNNCk45o7uso8TgL/yFv/AX/iI84K8UJxidzoa/7Ogaa9BBlp55h6O0AdvRLW3xZYEqIxFWMP7u47uUaRJUh9H77XxLCfAX/sJf+At/EV7zV6J5valJFn+3Cm4xSsWZ3FRgI8rM/laOVGRbTg7G3zoa27VQ2fZR77g6yXjY9ZYWw1/4C3/hL/xFeM7fylXygS9Es7/Nrtgt18ZSPbddeSnvr1iWyp9WcN8fpL9s6NceY3jzIX7KsWM0w1/4C3/hL/xFeM5fKUfQ+DP8XUzHqp3CpxG53XblfZy/kzu1lQc3VJRnnWkTpe5g/X2uTznqo57rHPXwqOsttcFf+At/4S/8RXjPXyZj6gqTv/Sytcv9Gk+tKzfoU4dUf0WWLlqoaGnv4z8lKH9FUrdXG2a9Kp2batQY1FMC/sJf+At/4S/CC/7208yenem8vw20NIPoeg0allxuO7rJ8DeRrUhYY1U+KH+NO6Rm9l59LBdd8iD8hb/wF/7CX0S4+Ct10sXPmPJvUBqqFNdrUFaqKtvResNf2txgnix0P2h/S+TdjCllJFZGpH6YMlH64C/8hb/wF/4iwsZf6Qildkzh/c1zGFecHxcX124sSmS1cKGR/6rBNNjZmB0cnL+sqtzujZW/bDMn0LIOuhblW/LBX/gLf+Ev/EV4098GaltWpHP+0gyjPEuteHpPzAZG5TfZVmeQpG2Gv7Q6cFG+uZM7NXh/ab8rXco1p4KmPxI2iPacl9kN4eDv1R+UuDVThc/gL/yFv/AXETb+spFOQiLn7006sM5cicZUZarEEcVr7c1f1V8awlxvPrlDCN5fZnUcjQEr6LPkl+61v3LeFhbt3wvqePEbbhXOqRW+gb+zEcn+lSwaQ+x7gr/wFxFu/rLFDZr8hr8HqYWbxy/gqyTAWKYmyUi1LoYgVnD+vqU3uKb1GXqKbP7WufrLmrrlp+V/dvDd3wW2BjC1s4VO+At/P3jUarPL2+Ev/IW/8Pej+rtWSxK5j6smlFZyqx81GbmYlXUbhD0GhpXVAr/+b4FlgnDNSlYax/sb4e4vpb/MTtOyTWtxgC6xjett9vmVjupw9PdwKot7Q/B3NmLgmhK/h7/wF/4iZtlfJeMG5+9BSosltA7oY6SJ1LRl2u4ka8+WblF3I3MFk7+kcZFeuX9fAZc8SyvPcfc3vUupf8k8/otWKxa62vXEIfTWOntYCkt/v1b3T8Lf2YhO9ad7HP7CX/iLmG1/2Ygrzl9pjAnrz/KlS+mRx6pYYaI52ZXscywtFfj2AGs9txr+RtF+UblPlMSpuB1N2rPsvujbz8pp3YSKftntfEd/pc2OmSUvspSWTeuXyLc0GfWF+X7hL/yFv/AX/iK86G9dgcWz0SLlAVRUrGVyPmVdbYEiVSvujuWyYi1VjqU1pmntapaSI0MIsGL2/WQU+4VFzv5GZjBpKy332KN+VJp+S0ck+At/4S/8hb8IL/sr9Vrbkxfnm5Y5aNxunvxz08+X+nulvXwLudt0bm6PNKVIrPhbpzWJ1zv7q0xm6rbdY1ue6bIFG8Vw8fe88r439XM3fy+rFa7DX/gLf+EvwpP+lvn9/lLHkkyab9HB/7p15OrUFb3ut9afXKMLXLxjUpJ2yxtRBpXV+rlVicRkMzN3jVI60sT5OyzfUqFlYi/dy0KHJ0CiIXDa7obwzX9l8xf5N2bVX1/gEIsjK+Av/IW/8PcD+ft+sSKxrDvzyOZC3xan0vyoE6djYhbE9rBmKL3/XcKVlrRsLi/tLmue1IZ0jfWuW6HjHbumtHtzZ//731IK3VJAvqXoUM0/eWXo5J+mrwB/Q93fUA34C38Rn4y/7xEsKWWdNPfxUfz98TYLmg40fuPRnb+eP/vuu2f2auPXfzh8j/UXvDz74qi9fOjPjx5fbhJePTz77uoQX3BUuf7tcTd/P+MqnFS3b3PMr75tuYJ8yosvL7889+rhxN+uX/GWvymDtQk1LmULo24ubolz6RZO2T+asyxlmiu/XRJ3bHlO+0fyd7BzZHHL2Mfssoa/8Bfxqfs7Jke+5dgJGoyVHqb+3lKfz0/m/Y+9c/+JIsvieCVbiR1dHzi4oiKTkR+wWWhAOkSDDtgqMmjG8PDtCisYREGQVcBB1hBaHBlpFJZhBBllpQF5qTCwoASMYSckzC/zk//O0lX33EdVddm23bO0nPOLfZ91u0nq4z333O/p/R0ioWTrsIbAUQ/6hfPpBo2apFtot49MG8dfDfX30372pc8N2vire9D6gNOnhDo4QV7o45419bpzefN3c71qtZIUc36NEl4Xl3p6s7bbo8twUb26vlvbGLM9RxmYkZq1NDA8S7Vo1iHyqxMkcC+jOvHRIqm9E37p0j4ya9GlJQtbqiyrUUenxCxB/TaZKusOm+sqqUqBaaSS4nwyS37KXuQv8hcN+RsU+2uRRl9DI0/5GfM3aoAH7OSCsEcukDVmv9nEtVfd1bY3RBnxd0rTq1HL3x5oGWCTA22tKmjd7zSTOFuXNX/3k2WulWrj2aKL9h3mO317UvhKJ34Q97BX+Mg86TL5eIlunC/bxei9rDClfrX2r1IvifFXi2lQKGFPg1XGESaXfy/Mkb0R+Yv8RUP+BsMS9bkQFIHnks+ev6Piq5rGK3s2nP2y3kaZ57fVpm/uavKHv8kOiIpLoO5nYMuIUhzr0z+rJyT4mxsrRs5z8U9J2h+w6Dw3w3qRrlu0/O1O0/0iceE+8Veiwfwp9GkboapYLd+yayaxXkT+In/RkL9BME8qJHrXV7Ebntdm9defO3915pihXYoMO/wG7YMtRs3z/vDX8kTrbLa8FWpcbwweZW8NAf6mWjWrPkW7FBt8p/W0NVwDwNgrIn/PGf15HN0+8Zf2SKePuwhV+5VivcHkF5G/yF805G/g7c+KI/A5jV7+u6IHrU2YtBL4KxeQM2BXs5cOBJGuPuPmDn/4+wqaXsMCwd3couy35w0f1X99+fNX/7+GX7TEEwC6n7QWWr1NQPh70LBxjU/8la5BKQzWewKOepVgr6tGc9vCkb/IXzTkb+DtT0oYjCPn4U+lpeW5iao/9NSqFchfiIGa49+8PAwmk1XvNKXg+ETPcIN2OM9fp+YJfTr+usHVXUDW1zTJA/mxgAHO2x2C/JWPqh1WOwxb08gBcYpszt+/eGk95xN/j0NpHVnuYQfXV/ouw3DuokLkL/IXDfkbeIs+q3vd1K9aGfwtGJ543chOKZ29ng6dzL15czahqeIpg+icMsMEKTWrOG5tEUOoeP42uVwuaL6+9LlJrz9Jo6vIlnYGyo89pRHK+t/bLe5Z6oy2dYQEfx3ZR/NZKV7twMKb4nMST7Bf+wulNS/jA/w9Ss9lc+qTUlgcV5IklWZmZmbDL7T0OTNcx99oKOWAtxsqnnlKTGrm0LHEg3Gy/rgY+Yv8RUP+Bs7+kyi+5q6Vr1oR/LX1KB7emSnRwTxBkUf8zSwCalIJcu7SCDzDAKvbH/3nX2HyCXH3reyH6+Ao1KmOds3rDqOXM39Pe27+llJE2pQA4230XDfJ4/EtzaTCp2Xi+ev9TWVbb+xzaPkL15auqHHJJeChyFIf/yH9SVhN0aJ4Fr1HoTP83rZTnmixiMuU9YXIX+QvGvI3GLZ1w/ewCY57Xvv1qpXB35+hpkUIoaJXj2iQUxStesV36CIB0WPw0p7xh79NULyntsIW978W/nrSK1gKnE07Q4C/SWpFGVUf380DT75KBqzlKyLofpjwdPUhkb+FUNqkGZ7pG3+PiOFWUj4fY3UbGs+QwaeDF4KF/EX+oiF/if3tu/AfV4fF/HPVMrKg8vcNrZrgqwah0MzGUAyOC4Bu7FGZWlehmn/5j4ZJMUPZPo/ZeHd0l26tVXIw5CyDwt89oGexHWoeekpw3fY+DIiAHe3lpUIuvXZL+WkT+PulEC61ZOC9OeYbf/Ni+fNeaTcEh5V6SiBJvgaWvqNanB35i/xFQ/6uDAsqf1/Rqk44crQuFZ5C+1tO7QpioiotvGaVx0v8ru36J+Yf7BD2208F4jr5zbB6O1jWTL98+XsEagr5O0a0wGKKa7jzYUiGKe+izTkCf3ccUA2CqQ9YP46/9PxYcTjT5x30FLbG6i5DQbzW2Z3IX+QvGvIX+RsQ/tqSWR2NgUqwWG7CZ16REvahchS3YQVr6apyf0r+32be+z3KS2z0UtHJBmpiLNhy5i+Vi9xp47BG452i88DOcIT8B+TIZBOWy1r9K9UWo0tuZaXTP4Ov/KW7ceVI9z7vDP8Wmrrp2q7qvg3yF/mLhvxF/n4Sf4e4OuqAHmQAnOIHUeR6Mi0s6NWv+kc7/OfvA25zDdHSsWOKM9r7XSkq97Fs+WtnVUUcf2+ZfKdn7HJvIsfZWB1/d2775tg1jUyHr/zdwa+mjMydcVhAs4HtQv4if9GQv8jfgPCXE1xmIhgdzLvczA/qETQ2bhq8nmPnXP7yd9DGejwWgrEqTHjw23Lnb5oxf78w+U43JAnOW19wM+Zr+Hv4YrzBYF/5Kz3nArYeCrg3+79BOPIX+YuG/EX+BoS/I17422fAZ6YJqRz2up8YvaAbX/rJX8sA8zm/Fw6fZ0x48G658zfemL8pJt+phO11t3AzZov8jUw3HOwzf0vgSHdRoqkdapWWJJO1PUT+In/RkL/I34Dwt8GIv3U+7X8tliqnwRt63F/+/kwqnlgsjcSf7f6QVpc8GqL8zTL5TrXSDl3wlo6/5XHyp/F3EW407ZUk8vGCGu+8wWRtB5C/yF805C/yNyD8vWt0/pv8ofPfQYiIfjui12lq9ZO/nSSEt98Ft4+Ic5nehXIW6GwiRPlbb8K4TZIEchvHuRkP8fyNuSIMyS8u/lj+0i34C6oFUqM2fIP8RUP+In+Rv8GPf+ZilqmqlIv7nGAU/8wNSnj1TpMluMtP/lKVyV/byIdp8giYecESXPsD+UsZd1xvkZKUZhB/Zef5e4blBTy4r7aQTeg7f4G6J+lhdLfasN5kbeeQv8hfNOQv8jcw939ZxHKvk9sTt+nvB1uiJjVJEsDa20YnGX8r/eUviGoMExA7IZewVdSm/Bz4C4yLMx6dzh3OEusW7h8do/pYeeJu1nf+SmQLbcvLFpMRwt2o2Dt/wJsA+Yv8RUP+rlT+zuuPfz0xWXVCrkDxgFYJeurpUo3oczQt0NvDdref/I0iEtRD5N9haHgTjMPe/y9/a+HXijQcTbXIf6RVxwT+5ovylOzG0kfwF+Ksjtj5zA9c/qS9yF/kLxryF/kbPP1n0Hd2NwoZBGlo1TQMcVXyolMNugCufwuSHd74e907fy3jhpmE2cwO6oCuaiF2PUT5W2bXRVhFl6i2benzFvgN0mED/Iug/1wmpCviT4c/gr9h5JgdjvB/AE83VOyjXf9F1laO/EX+oiF/kb+B4m+LGkzVOSByj6b/nSIATqaaU1MJnFiWtU7rPi4w9T/PmPB3VsAvC72eppmXSOBXOyRrsiaEKH+pxnLGT6S1DG7zruFpKeeoTuAvLwj83QuFGDK61kv8c74Jf6nqlUaJmu6lHaC2seOKdjrkL/IXDfmL/P3k/L/97ztezvQMyWJGhjErzZc319Fraa9iUVbDQrB08ywJX+4TrhR74++cCX/pILYNV0+m6bMrqzxnwq20fC9U/c/SKRq6rOb0i8kUkuyyhL7p5zeGhWfZxPyDlKYkZCqMZq8+KvI3Y9GEv+sE/q6j9RehKi1M3RCDHKaSGwL5i/xFQ/4ifwPDX60RYvLyVlZBZbLdwh8Qy3LD/ERbz7spkZve+Cu3DDXOe+Pve+4xtnZW38aqnQMDTlnnPA89/hbS3/Tsi21lkduv8fJXknTA+9/Hw987INCR6sHp4gGmhHVQ5K9cs2v3sxgv/I3gsgrLjghaX0ZpXnS7OyI6d03w5K+Qv8hfNOQv8hesj0QduwvM+TzipdlaYcjfZl4jyxt/eaVJXnnL1Wj8rPGQjb/yroClOpAXs035K9Hrv2k1GxKrudYT6rN28yM2eOEvy6nkcXRz9d7UMe/vRP4if9GQv8jfIPE3g0Y0LTgMO4BiZV2RKZ61/B3xhb+WRt085MD3rtGjKhNCmL8RxvqRF8h9osgMU/4mems9qQ4/zNfVe+NvLtcpl6vfmmo4d1yYhPxF/qIhf5G/geFv/6QGv9Osz7QRAkaiaLPDbEuq5e9bn/g7wRbyUlhvhQGAhwYtIcxfKeyQkfegBHqXWDUtF3j+Rnv53w+9MXzIF/7eYSKWZ4XLvpurjZJr5ErIX+QvGvIX+Rso/cmOFiGJ7yzfaVan72wb7+X4PGmAZ7cX/tILS6b8bbeLKlrMOke1jxpItoQ0f6XIPfod5n7WfVca3+IITxX0n9eLA/N3UUEONST6iC/8lYppn2Jx+WF6/7f1kYT8Rf6iIX+Rv4HTf67rorG1ttcapLnn+kXkzQjNya/FZrmZqWUVaPHaOzcp8PeukONIR2l9ZNX0gOB7rgpp/Q11+1mvcSHc381PEVETy8KqVtOchASD9bHcwO/zpHhRsmNxrS/83e81se/iV5r9d+pqCfmL/EVD/iJ/A5p/oWL+XmX/ZPOTnjF9v5dV45UKZGMn/8fe/f9WVd8BHCahh7sooQXqKNJCgW3UMKUVuetA1IwpIARQJGsZ1BCs0FkKiZhtyArt1mQD42hSCZCwLEOyrVkCIRqSuWwu/kDiDUIEFPSf2XrOve3lS0t7ew+cts/rp3rbQnnbz+e5X84597cf77vr02f//M9P/hr6/czv/vB1vs4X9ke9P3DTkX/96dg/fv2X/xz7NP8LPryd9P13f9/AD33sb398pu9H+eTrf7+f8OtfVf4sKu93fGP2pu8O3NSa7j/UuOSZV+46uriirfaVX7716MZ035Wofn77KUeTzuRO0y15a11m0qSZK7LlTih+t/b5PH9bs3/5ewvy/4Kan2a/af3d/4JZDQMPwJ9a0RnTTsBf/oq/E9jf+za39zenhvj0kVO9F85+5wF1ZOnS2P7sYvo73DKP1L29pnbjroaqiqG/sCL3NEVr/01nulfu2pWePfhlIhdMPzHnwPRZhV7HuWbO2pf7fraOtlmx/fv5y1/xl796GP4Ou87cQ9HMuNoJ+Mtf8Ze/So6/B9Zn2zrwTHHuBKXxtRPwl7/iL3+VHH/7j5Z6oifL7y/uuMAkf/nLX/GXv/wtern3Fyx5tLxm0qRZj625/fIb/OUvf8Vf/vI3hl7OO/P39fxrabw4vl7+5S9/xV/+Kkn+bhjs+pIrx9lOwF/+ir/8VZKOf552b35fHWcPf/nLX/GXv0rW+UdNT92D3/Vd420n4C9/xV/+Klnn/26+602IXu8cfzsBf/kr/k4wf5d8fCzsU+om9/obp3flvQPV82uausbhTsBf/oq/E8xfjYnrX2V6nu1u7mhobivfNk53Av7yV/zlrxJ9/Un+8pe/4i9/+Sv+8lf85a/4y1/+8lf85S9/xV/+ir/8FX/5y1/+ir/85a/4y1/xl7/iL3/FX/7yl7/85S9/+Sv+8pe/4i9/xV/+ir/85S9/xV/+8lf85a/4y1/xl7/85a/4y1/+ir/8FX/5K/7yl7/8FX/5y1/xl7/iL3/FX/6Kv/zlL3/5y1/+8lf85S9/xV/+ir/8FX/5y1/+ir/85a/4y1/xl7/iL3/5y1/xl7/8FX/5K/7yV/zlL3/5y1/+8pe//OUvf8Vf/vKXv/wVf/nLX/7yl7/85a/4+zCrC7eoC3x8MP6+2zfzLeGHe6zUuGsJB/00f/kr/iaxteEW9QEf425ZOOh5A885vGalxt1j4aA/4i9/xd8ktjXconr5GHfXw0Fv6Jt5c/hhj5Uad5vDQW/jL3/F3yTWFG5R+/gYd1fDQZ8YmPkMKzXu2sJBH+Uvf8XfJFYVblHf8jHuboaDXtg38+7ww2et1LibHb3Qzl/+ir9JLDpE9Dof4+7GgAUbwg9PWqlxFx3odpG//BV/k1h9uEV9xce4uxIOenvfzGeEH5ZaqTG3IJxz0M5f/oq/Sawi3KIu8THmzodzbpzSN/Ou8OOZVmrMLQznXJfiL3/F3yS2I9yj0nMJGW9fhHNuDmc+NXAC8IMoOv23k7/8FX+TWXQxpv2EjLdr4Zh351/0ZK+lGm8HozHzl7/ibzKLztG4Rsh4uxSO+UA08/LogZmlGmuZQ+GYF/CXv+JvMtsbblI/IGSsLYmecp4czTx6YXK+pRprleGUD7Xzl7/ibzKriV4APs/IOPssnPK5xdHMD0caH7VW4yw6zbotxV/+ir/JbPG5cJv6ESPj7Fb+y7+pVHRhiG5rNc6nnxvCIZ/hL3/F36R2PNymbjAyzrOPGsMht+Zmfjr8z7KMxRpfJ6InGQ7zl7/ib1LbE3gLpLj7Jhxxdf9Lkcujmc+xWGPcBsIRN6X4y1/xN6lNia7Sd5WSsXXk83DE5QNDj96Codlija3W4GG++QJ/+ctf/g6n6HLE1ac4Ge/RV0HXwMx7olvOWK1xFZ1X19DOX/6Kv8lteaNTgB/Eyb/N+ZvzzPCm2VZrTO2MfqnfSfGXv+JvgtsdblWXnYIU67Ung578mR+IbttmucZTafSkzib+8lf8TXIXA2+CFGNzo1d/66bkz7w9etV9/iLrNY7ORL/S81L85a/4m+iqAheBjq/o0s9B5e0z3xbdetx6jaFF86OryhzmL3/F32Q3ObLg0oewLH4fpO/x8Pf/D4CjN2FIt1qwxS+6wHbwbIq//BV/E170Tm0OwYqhD29Es624c+bROy8HdV1WbLGbkR1tO3/5K/4mvanRq5GNX/Cy2F0NBnsX2uyz/qus2CK3p2yQuzz85a/4m7ymRzvWFScBx3Psc/WOu2e+oyP63DuWbFHLzB70Lg9/+Sv+Jq/ocgW/unEWmcWs93JkQf0Qd3oanYRUzGqiX+Vg5Sb+8lf8HQttWhntWrccg1XELlwZ8qHYyeizhxZatMWrO3uvpivFX/6Kv2OiruiCQcHNI9gsVuejM3+DmYP8nrU3R5/vmG7VFqvsfZpgb4q//BV/x0h7sxvXzffBWZyWRtedDNKZwWa+PXukUPUMy7Y4Tz5nH/0GnYv5y1/xd6y0OHvSZHBrLjqLcuJv9tFvMH3woWeqs0Sftm6LUKY0O/Jp7Sn+8lf8HTNNyR64EtxwFHQR2p899Orex171nwWcfdo/OF5j5Y62iuzz+UHz1BR/+Sv+jqGeO5jdvq7sw+coO7IsB+uGYZ35FQSz91i6o2tbQ3aUdYdT/OWv+DumenNdDoNrjsIa3ZFXt3KTvO9bAOxMZ7+ybI61O4oW5F76DbYeTvGXv+LvWHsEnHsKuvFSL0QL79srOQtO33/oCzpyX3xwltVbaKfP5abYNDXFX/6Kv2PvNeDduV0suLqEowVedONGboaNlcMZ+uT5ua9Pl6+2fgvpaP8zN0FVe4q//NXD9beWvwUdBf1I/0Z2+TqBCzns+Wbuld+gbM8wL37S1j/0Q7u9DDziKg/2zy9dn5i7sv6/8Hci1hT6W/L7aT38LaDHtwwIfG0pT0d41PP3+qcXHNwx7Hs9pxsHBGmb4VDoEfT4080DI6+rSfGXv3qIlZfkerK2uaWVvyPscOnAfhZ8+a0rQg+771//PG90G6aMYOiL1uZ957nyykXW8XDas7c0nTe48qkp/vJXD7NZT5Tk98aPNzau7ZxXvzPD32E+Gqssy9vTqm8t63U09H2bu+/ajbypBVszI9yu51Tnf3t6XUt9hcfBQ5Rp3dtdlz+yoLkrSauIv/ydmK0tuXcvvfjCivd+un7jmtral/k75IlIJ2/b2ILLX1795oveC+fPztXtnV1y6oP9ny376lL6toF11E8Z8dB3VAV3lK6bXbqqs0p3tKptWvOWO4fVcGJKir/81cMH+ImS+/RD/g5dTVugQjvUUtgZqJO7za7Azu2dmrAVxF/+TtQq336Jv6Psv1V29YLq2FD49R+2Hz9kgCNvZv1zyTuVzzbM3wnb6s1/f5K/o+tiS5mtfaStPTG6X6o3z6wzxBFVvXnP4gSuHv7yd2LXWr7l1Rd+wt/Ca9/ZXW2DH37zWxYVYerL69s8Ch7uxE/ufC6Za4e//NWkzMKWpnO71q948g3+FrSNrN5wMG2fv39lq05MLt7UM/XlszsMdahWls47ujzBC8fey1/lSVyxcM47LeXdVatKm0r5O5Kt5GLPR+WlW2ee66jWHTVsqVvX9u6c1+KQ4M3Jq1uPVurOFk5/bdH29qQvGjsufzVk/JXEX/6Kv5L4y1/xV5L4y1/xVxJ/+Sv+ShJ/+Sv+SuIvf8VfSfwVf8VfSfzlr/grib/8FX8lib/8FX8l8Ze/4q8k8Ze/4q8k/vJX/JUk/vJX/JXEX/6Kv5L4K/6Kv5L4y1/xVxJ/+Sv+ShJ/+Sv+SuIvf8VfSeIvf8VfSfzlr/grSfzlr/grib/8FX8l8Vf8FX8l8Ze/4q8k/vJX/JUk/vJX/JXEX/6Kv5I0nNptr/wVfyXxl79KWJtsE5L4y9//tXc3tw0CURhFF0is6MQdsKCDkaYBFmwoA01XtJdkHw1/D2Qn5/Tg72rwYKO/gP7qL/oLcMpgXvUX/QX0V395M8VMADdI5lV/0V9Af/WXNzOZCeAGnXnVX/QXeNxsXvUX/QUel82r/lLVmwlAf/UX/QX+hGJe9Zeq0UwAN5jMq/5StZoJ4Aa9edVfqhozAdxgNK/6S93LTgDxVuuqv9QtdgKI11hX/aUu2QkgXGtc9ZcN/gAJiOfvj/SXLV4ABuJl46q/bPACMBDP67/6yyYXoIFwXj/SX1zAAh7n+pX+4gtg4Hm+/tVftjUeQAMeP+svz+tsBeDxs/7iATTw4Yph1V/2aK0FEOjlx5/1l10mcwEE6syq/rLvBpYDMBB4/HX7Sn9xAAYeNxtV/WUvf0IIhB1/ffurv+zmCjQQpZhU/WW/2WYAIRaDqr+4ggV4+qy/vLfRr1ACAfzxoP5ykDvQwHXuPusvhxXLAVyUTKn+4g4W8LShsaT6iwAD8qu/fIZsP4DzD5/lV385yyUs4CxXr/SXC3rvAQNnvLx4pL9c0nR2BDhs8bMb+osjMPD04beYTv0l4Ahc/BYWcMDs8Ku/xFizAgM7z77daDT1l7gz8OQvgYFtbXH21V+CjcUXwUA1vtnRV3+55zl0n5MIA7+kd8iT+OovN1d47KdS8tylNAzLtxb4X34++MOQUjfnXKa+X/3Slf4CgP4CAPoLAPoLAPqrvwCgvwCgvwCA/gKA/gIA+gsA+gsA6C8A6C8A6C8AoL8AoL8AgP4CgP4CAPoLAPoLAOgvAOgvAOgvAKC/AKC/AID+AoD+AgD6CwD6CwDoLwDoLwDoLwCgvwCgvwCA/gKA/gIA+gsA+gsA6C8A6C8A6C8AoL8AoL8AgP4CgP4CAPoLAPoLAPqrvwCgvwCgvwCA/gKA/gIA+gsA+gsA6C8A6C8A6C8AoL8AoL8AgP4CgP4CAPoLAPoLAOgvAOgvAOgvAKC/AKC/AID+AoD+AgD6CwD6CwDoLwDoLwDoLwCgvwCgvwCA/gKA/gIA+gsA+gsA6C8A6C8A6C8AoL8A8Kf6+wVFJJAXdqXqawAAAABJRU5ErkJggg==)"
      ],
      "metadata": {
        "id": "ovbEyVbztMUt"
      }
    },
    {
      "cell_type": "code",
      "source": [
        "y_pred_probs = MLP.predict(X_test)\n",
        "for t in [0.3,0.4,0.5,0.6,0.7]:\n",
        "    y_pred = (y_pred_probs > t).astype(int)\n",
        "    print(confusion_matrix(y_test, y_pred))\n",
        "    print(classification_report(y_test, y_pred))"
      ],
      "metadata": {
        "colab": {
          "base_uri": "https://localhost:8080/"
        },
        "id": "XlYjRGcXtW1H",
        "outputId": "4d8454be-f1fd-401a-a3f7-2cd3f1f37c27"
      },
      "execution_count": 40,
      "outputs": [
        {
          "output_type": "stream",
          "name": "stdout",
          "text": [
            "\u001b[1m201/201\u001b[0m \u001b[32m━━━━━━━━━━━━━━━━━━━━\u001b[0m\u001b[37m\u001b[0m \u001b[1m0s\u001b[0m 1ms/step\n",
            "[[4505  930]\n",
            " [ 149  818]]\n",
            "              precision    recall  f1-score   support\n",
            "\n",
            "           0       0.97      0.83      0.89      5435\n",
            "           1       0.47      0.85      0.60       967\n",
            "\n",
            "    accuracy                           0.83      6402\n",
            "   macro avg       0.72      0.84      0.75      6402\n",
            "weighted avg       0.89      0.83      0.85      6402\n",
            "\n",
            "[[4735  700]\n",
            " [ 199  768]]\n",
            "              precision    recall  f1-score   support\n",
            "\n",
            "           0       0.96      0.87      0.91      5435\n",
            "           1       0.52      0.79      0.63       967\n",
            "\n",
            "    accuracy                           0.86      6402\n",
            "   macro avg       0.74      0.83      0.77      6402\n",
            "weighted avg       0.89      0.86      0.87      6402\n",
            "\n",
            "[[4908  527]\n",
            " [ 256  711]]\n",
            "              precision    recall  f1-score   support\n",
            "\n",
            "           0       0.95      0.90      0.93      5435\n",
            "           1       0.57      0.74      0.64       967\n",
            "\n",
            "    accuracy                           0.88      6402\n",
            "   macro avg       0.76      0.82      0.79      6402\n",
            "weighted avg       0.89      0.88      0.88      6402\n",
            "\n",
            "[[5044  391]\n",
            " [ 324  643]]\n",
            "              precision    recall  f1-score   support\n",
            "\n",
            "           0       0.94      0.93      0.93      5435\n",
            "           1       0.62      0.66      0.64       967\n",
            "\n",
            "    accuracy                           0.89      6402\n",
            "   macro avg       0.78      0.80      0.79      6402\n",
            "weighted avg       0.89      0.89      0.89      6402\n",
            "\n",
            "[[5164  271]\n",
            " [ 405  562]]\n",
            "              precision    recall  f1-score   support\n",
            "\n",
            "           0       0.93      0.95      0.94      5435\n",
            "           1       0.67      0.58      0.62       967\n",
            "\n",
            "    accuracy                           0.89      6402\n",
            "   macro avg       0.80      0.77      0.78      6402\n",
            "weighted avg       0.89      0.89      0.89      6402\n",
            "\n"
          ]
        }
      ]
    },
    {
      "cell_type": "markdown",
      "source": [
        "We got some pretty good scores, but what do we do with them?\n",
        "<br>Here's where Precision vs Recall comes into play\n",
        "<br>To put it simply,\n",
        "- Lower threshold → More recall, less precision (catch everything, even false alarms).\n",
        "- Higher threshold → more precision, less recall (only confident hits, but you miss some).\n",
        "<br>The plot below shows the Precision-Recall curve, which shows the tradeoff between catching more true congested roads (recall) and avoiding false alarms (precision)."
      ],
      "metadata": {
        "id": "HWGkBI8du-H2"
      }
    },
    {
      "cell_type": "code",
      "source": [
        "precisions, recalls, thresholds = precision_recall_curve(y_test, y_pred_probs)\n",
        "plt.figure(figsize=(7, 6))\n",
        "plt.plot(recalls, precisions, label=\"PR Curve\", linewidth=2)\n",
        "\n",
        "#Of course we're not gonna use EVERY threshold, but some so we're gonna use some common ones, and ones I had some good results with(I started at 0.4 and 0.6 and they gave me good results so I just added 0.1 to the min and max so it as a wider range)\n",
        "for t in [0.3, 0.4, 0.5, 0.6, 0.7]:\n",
        "    idx = np.argmin(np.abs(thresholds - t))  # closest threshold index\n",
        "    plt.scatter(recalls[idx], precisions[idx], label=f\"t={t}\", s=70)\n",
        "# Random baseline (always predicting positive = proportion of positives in test set)\n",
        "baseline = np.sum(y_test) / len(y_test)\n",
        "plt.hlines(\n",
        "    y=baseline,\n",
        "    xmin=0,\n",
        "    xmax=1,\n",
        "    colors=\"red\",\n",
        "    linestyles=\"dashed\",\n",
        "    label=f\"Baseline (pos rate={baseline:.2f})\",\n",
        ")\n",
        "\n",
        "plt.xlabel(\"Recall\")\n",
        "plt.ylabel(\"Precision\")\n",
        "plt.title(\"Precision-Recall Curve with Threshold Points\")\n",
        "plt.legend()\n",
        "plt.grid(True)\n",
        "plt.show()\n"
      ],
      "metadata": {
        "colab": {
          "base_uri": "https://localhost:8080/",
          "height": 564
        },
        "id": "xpDjS9g7t-0e",
        "outputId": "0c030357-05cb-463b-9d22-1eadb7fbf45f"
      },
      "execution_count": 41,
      "outputs": [
        {
          "output_type": "display_data",
          "data": {
            "text/plain": [
              "<Figure size 700x600 with 1 Axes>"
            ],
            "image/png": "[encoded data removed]"
          },
          "metadata": {}
        }
      ]
    },
    {
      "cell_type": "markdown",
      "source": [
        "Now we need to compare to show you our model isn't just a bluff, here is our dummy model which just gives you baseline accuracy, in layman terms it says \"What if I just guessed the most common class how accurate would I be\""
      ],
      "metadata": {
        "id": "LUf6bj2nwsr3"
      }
    },
    {
      "cell_type": "code",
      "source": [
        "dummy = DummyClassifier(strategy=\"most_frequent\")\n",
        "dummy.fit(X_train, y_train)\n",
        "print(\"Baseline acc:\", dummy.score(X_test, y_test))"
      ],
      "metadata": {
        "colab": {
          "base_uri": "https://localhost:8080/"
        },
        "id": "9xGNrbVsxZpf",
        "outputId": "6de1e2af-d1de-4e92-cbc6-f70fac05ec7c"
      },
      "execution_count": 42,
      "outputs": [
        {
          "output_type": "stream",
          "name": "stdout",
          "text": [
            "Baseline acc: 0.8489534520462355\n"
          ]
        }
      ]
    },
    {
      "cell_type": "markdown",
      "source": [
        "Now we compare the two"
      ],
      "metadata": {
        "id": "VbwNc4MDyjh_"
      }
    },
    {
      "cell_type": "code",
      "source": [
        "y_dummy_pred = dummy.predict(X_test)\n",
        "THRESHOLD = 0.6\n",
        "y_mlp_pred = (y_pred_probs > THRESHOLD).astype(int)\n",
        "\n",
        "#Metrics for both models\n",
        "metrics_dict = {\n",
        "    \"Model\": [\"Dummy\", \"MLP\"],\n",
        "    \"Accuracy\": [\n",
        "        accuracy_score(y_test, y_dummy_pred),\n",
        "        accuracy_score(y_test, y_mlp_pred),\n",
        "    ],\n",
        "    \"Precision\": [\n",
        "        precision_score(y_test, y_dummy_pred, zero_division=0),\n",
        "        precision_score(y_test, y_mlp_pred, zero_division=0),\n",
        "    ],\n",
        "    \"Recall\": [\n",
        "        recall_score(y_test, y_dummy_pred, zero_division=0),\n",
        "        recall_score(y_test, y_mlp_pred, zero_division=0),\n",
        "    ],\n",
        "    \"F1 Score\": [\n",
        "        f1_score(y_test, y_dummy_pred, zero_division=0),\n",
        "        f1_score(y_test, y_mlp_pred, zero_division=0),\n",
        "    ],\n",
        "}\n",
        "\n",
        "results_df = pd.DataFrame(metrics_dict)\n",
        "\n",
        "#Bar chart to compare accuracies\n",
        "results_df.set_index(\"Model\")[[\"Accuracy\", \"Precision\", \"Recall\", \"F1 Score\"]].plot(\n",
        "    kind=\"bar\", figsize=(8, 6)\n",
        ")\n",
        "plt.title(f\"Dummy vs MLP (threshold={THRESHOLD})\")\n",
        "plt.ylabel(\"Score\")\n",
        "plt.ylim(0, 1)\n",
        "plt.grid(axis=\"y\", linestyle=\"--\", alpha=0.7)\n",
        "plt.show()\n",
        "\n",
        "# Display raw numbers too\n",
        "results_df"
      ],
      "metadata": {
        "colab": {
          "base_uri": "https://localhost:8080/",
          "height": 713
        },
        "id": "M_571XZpyi8n",
        "outputId": "efe6beb0-8305-4def-c8c9-39cebaabb3b7"
      },
      "execution_count": 43,
      "outputs": [
        {
          "output_type": "display_data",
          "data": {
            "text/plain": [
              "<Figure size 800x600 with 1 Axes>"
            ],
            "image/png": "[encoded data removed]"
          },
          "metadata": {}
        },
        {
          "output_type": "execute_result",
          "data": {
            "text/plain": [
              "   Model  Accuracy  Precision    Recall  F1 Score\n",
              "0  Dummy  0.848953   0.000000  0.000000  0.000000\n",
              "1    MLP  0.888316   0.621857  0.664943  0.642679"
            ],
            "text/html": [
              "\n",
              "  <div id=\"df-408fdcf9-ed2d-4c3d-a247-7ab56ca01694\" class=\"colab-df-container\">\n",
              "    <div>\n",
              "<style scoped>\n",
              "    .dataframe tbody tr th:only-of-type {\n",
              "        vertical-align: middle;\n",
              "    }\n",
              "\n",
              "    .dataframe tbody tr th {\n",
              "        vertical-align: top;\n",
              "    }\n",
              "\n",
              "    .dataframe thead th {\n",
              "        text-align: right;\n",
              "    }\n",
              "</style>\n",
              "<table border=\"1\" class=\"dataframe\">\n",
              "  <thead>\n",
              "    <tr style=\"text-align: right;\">\n",
              "      <th></th>\n",
              "      <th>Model</th>\n",
              "      <th>Accuracy</th>\n",
              "      <th>Precision</th>\n",
              "      <th>Recall</th>\n",
              "      <th>F1 Score</th>\n",
              "    </tr>\n",
              "  </thead>\n",
              "  <tbody>\n",
              "    <tr>\n",
              "      <th>0</th>\n",
              "      <td>Dummy</td>\n",
              "      <td>0.848953</td>\n",
              "      <td>0.000000</td>\n",
              "      <td>0.000000</td>\n",
              "      <td>0.000000</td>\n",
              "    </tr>\n",
              "    <tr>\n",
              "      <th>1</th>\n",
              "      <td>MLP</td>\n",
              "      <td>0.888316</td>\n",
              "      <td>0.621857</td>\n",
              "      <td>0.664943</td>\n",
              "      <td>0.642679</td>\n",
              "    </tr>\n",
              "  </tbody>\n",
              "</table>\n",
              "</div>\n",
              "    <div class=\"colab-df-buttons\">\n",
              "\n",
              "  <div class=\"colab-df-container\">\n",
              "    <button class=\"colab-df-convert\" onclick=\"convertToInteractive('df-408fdcf9-ed2d-4c3d-a247-7ab56ca01694')\"\n",
              "            title=\"Convert this dataframe to an interactive table.\"\n",
              "            style=\"display:none;\">\n",
              "\n",
              "  <svg xmlns=\"http://www.w3.org/2000/svg\" height=\"24px\" viewBox=\"0 -960 960 960\">\n",
              "    <path d=\"M120-120v-720h720v720H120Zm60-500h600v-160H180v160Zm220 220h160v-160H400v160Zm0 220h160v-160H400v160ZM180-400h160v-160H180v160Zm440 0h160v-160H620v160ZM180-180h160v-160H180v160Zm440 0h160v-160H620v160Z\"/>\n",
              "  </svg>\n",
              "    </button>\n",
              "\n",
              "  <style>\n",
              "    .colab-df-container {\n",
              "      display:flex;\n",
              "      gap: 12px;\n",
              "    }\n",
              "\n",
              "    .colab-df-convert {\n",
              "      background-color: #E8F0FE;\n",
              "      border: none;\n",
              "      border-radius: 50%;\n",
              "      cursor: pointer;\n",
              "      display: none;\n",
              "      fill: #1967D2;\n",
              "      height: 32px;\n",
              "      padding: 0 0 0 0;\n",
              "      width: 32px;\n",
              "    }\n",
              "\n",
              "    .colab-df-convert:hover {\n",
              "      background-color: #E2EBFA;\n",
              "      box-shadow: 0px 1px 2px rgba(60, 64, 67, 0.3), 0px 1px 3px 1px rgba(60, 64, 67, 0.15);\n",
              "      fill: #174EA6;\n",
              "    }\n",
              "\n",
              "    .colab-df-buttons div {\n",
              "      margin-bottom: 4px;\n",
              "    }\n",
              "\n",
              "    [theme=dark] .colab-df-convert {\n",
              "      background-color: #3B4455;\n",
              "      fill: #D2E3FC;\n",
              "    }\n",
              "\n",
              "    [theme=dark] .colab-df-convert:hover {\n",
              "      background-color: #434B5C;\n",
              "      box-shadow: 0px 1px 3px 1px rgba(0, 0, 0, 0.15);\n",
              "      filter: drop-shadow(0px 1px 2px rgba(0, 0, 0, 0.3));\n",
              "      fill: #FFFFFF;\n",
              "    }\n",
              "  </style>\n",
              "\n",
              "    <script>\n",
              "      const buttonEl =\n",
              "        document.querySelector('#df-408fdcf9-ed2d-4c3d-a247-7ab56ca01694 button.colab-df-convert');\n",
              "      buttonEl.style.display =\n",
              "        google.colab.kernel.accessAllowed ? 'block' : 'none';\n",
              "\n",
              "      async function convertToInteractive(key) {\n",
              "        const element = document.querySelector('#df-408fdcf9-ed2d-4c3d-a247-7ab56ca01694');\n",
              "        const dataTable =\n",
              "          await google.colab.kernel.invokeFunction('convertToInteractive',\n",
              "                                                    [key], {});\n",
              "        if (!dataTable) return;\n",
              "\n",
              "        const docLinkHtml = 'Like what you see? Visit the ' +\n",
              "          '<a target=\"_blank\" href=https://colab.research.google.com/notebooks/data_table.ipynb>data table notebook</a>'\n",
              "          + ' to learn more about interactive tables.';\n",
              "        element.innerHTML = '';\n",
              "        dataTable['output_type'] = 'display_data';\n",
              "        await google.colab.output.renderOutput(dataTable, element);\n",
              "        const docLink = document.createElement('div');\n",
              "        docLink.innerHTML = docLinkHtml;\n",
              "        element.appendChild(docLink);\n",
              "      }\n",
              "    </script>\n",
              "  </div>\n",
              "\n",
              "\n",
              "    <div id=\"df-46d45df0-dfd2-41ab-8f64-a9b59cd111fa\">\n",
              "      <button class=\"colab-df-quickchart\" onclick=\"quickchart('df-46d45df0-dfd2-41ab-8f64-a9b59cd111fa')\"\n",
              "                title=\"Suggest charts\"\n",
              "                style=\"display:none;\">\n",
              "\n",
              "<svg xmlns=\"http://www.w3.org/2000/svg\" height=\"24px\"viewBox=\"0 0 24 24\"\n",
              "     width=\"24px\">\n",
              "    <g>\n",
              "        <path d=\"M19 3H5c-1.1 0-2 .9-2 2v14c0 1.1.9 2 2 2h14c1.1 0 2-.9 2-2V5c0-1.1-.9-2-2-2zM9 17H7v-7h2v7zm4 0h-2V7h2v10zm4 0h-2v-4h2v4z\"/>\n",
              "    </g>\n",
              "</svg>\n",
              "      </button>\n",
              "\n",
              "<style>\n",
              "  .colab-df-quickchart {\n",
              "      --bg-color: #E8F0FE;\n",
              "      --fill-color: #1967D2;\n",
              "      --hover-bg-color: #E2EBFA;\n",
              "      --hover-fill-color: #174EA6;\n",
              "      --disabled-fill-color: #AAA;\n",
              "      --disabled-bg-color: #DDD;\n",
              "  }\n",
              "\n",
              "  [theme=dark] .colab-df-quickchart {\n",
              "      --bg-color: #3B4455;\n",
              "      --fill-color: #D2E3FC;\n",
              "      --hover-bg-color: #434B5C;\n",
              "      --hover-fill-color: #FFFFFF;\n",
              "      --disabled-bg-color: #3B4455;\n",
              "      --disabled-fill-color: #666;\n",
              "  }\n",
              "\n",
              "  .colab-df-quickchart {\n",
              "    background-color: var(--bg-color);\n",
              "    border: none;\n",
              "    border-radius: 50%;\n",
              "    cursor: pointer;\n",
              "    display: none;\n",
              "    fill: var(--fill-color);\n",
              "    height: 32px;\n",
              "    padding: 0;\n",
              "    width: 32px;\n",
              "  }\n",
              "\n",
              "  .colab-df-quickchart:hover {\n",
              "    background-color: var(--hover-bg-color);\n",
              "    box-shadow: 0 1px 2px rgba(60, 64, 67, 0.3), 0 1px 3px 1px rgba(60, 64, 67, 0.15);\n",
              "    fill: var(--button-hover-fill-color);\n",
              "  }\n",
              "\n",
              "  .colab-df-quickchart-complete:disabled,\n",
              "  .colab-df-quickchart-complete:disabled:hover {\n",
              "    background-color: var(--disabled-bg-color);\n",
              "    fill: var(--disabled-fill-color);\n",
              "    box-shadow: none;\n",
              "  }\n",
              "\n",
              "  .colab-df-spinner {\n",
              "    border: 2px solid var(--fill-color);\n",
              "    border-color: transparent;\n",
              "    border-bottom-color: var(--fill-color);\n",
              "    animation:\n",
              "      spin 1s steps(1) infinite;\n",
              "  }\n",
              "\n",
              "  @keyframes spin {\n",
              "    0% {\n",
              "      border-color: transparent;\n",
              "      border-bottom-color: var(--fill-color);\n",
              "      border-left-color: var(--fill-color);\n",
              "    }\n",
              "    20% {\n",
              "      border-color: transparent;\n",
              "      border-left-color: var(--fill-color);\n",
              "      border-top-color: var(--fill-color);\n",
              "    }\n",
              "    30% {\n",
              "      border-color: transparent;\n",
              "      border-left-color: var(--fill-color);\n",
              "      border-top-color: var(--fill-color);\n",
              "      border-right-color: var(--fill-color);\n",
              "    }\n",
              "    40% {\n",
              "      border-color: transparent;\n",
              "      border-right-color: var(--fill-color);\n",
              "      border-top-color: var(--fill-color);\n",
              "    }\n",
              "    60% {\n",
              "      border-color: transparent;\n",
              "      border-right-color: var(--fill-color);\n",
              "    }\n",
              "    80% {\n",
              "      border-color: transparent;\n",
              "      border-right-color: var(--fill-color);\n",
              "      border-bottom-color: var(--fill-color);\n",
              "    }\n",
              "    90% {\n",
              "      border-color: transparent;\n",
              "      border-bottom-color: var(--fill-color);\n",
              "    }\n",
              "  }\n",
              "</style>\n",
              "\n",
              "      <script>\n",
              "        async function quickchart(key) {\n",
              "          const quickchartButtonEl =\n",
              "            document.querySelector('#' + key + ' button');\n",
              "          quickchartButtonEl.disabled = true;  // To prevent multiple clicks.\n",
              "          quickchartButtonEl.classList.add('colab-df-spinner');\n",
              "          try {\n",
              "            const charts = await google.colab.kernel.invokeFunction(\n",
              "                'suggestCharts', [key], {});\n",
              "          } catch (error) {\n",
              "            console.error('Error during call to suggestCharts:', error);\n",
              "          }\n",
              "          quickchartButtonEl.classList.remove('colab-df-spinner');\n",
              "          quickchartButtonEl.classList.add('colab-df-quickchart-complete');\n",
              "        }\n",
              "        (() => {\n",
              "          let quickchartButtonEl =\n",
              "            document.querySelector('#df-46d45df0-dfd2-41ab-8f64-a9b59cd111fa button');\n",
              "          quickchartButtonEl.style.display =\n",
              "            google.colab.kernel.accessAllowed ? 'block' : 'none';\n",
              "        })();\n",
              "      </script>\n",
              "    </div>\n",
              "\n",
              "  <div id=\"id_0c3889d1-5314-4b5f-9ad1-71fe217a0d00\">\n",
              "    <style>\n",
              "      .colab-df-generate {\n",
              "        background-color: #E8F0FE;\n",
              "        border: none;\n",
              "        border-radius: 50%;\n",
              "        cursor: pointer;\n",
              "        display: none;\n",
              "        fill: #1967D2;\n",
              "        height: 32px;\n",
              "        padding: 0 0 0 0;\n",
              "        width: 32px;\n",
              "      }\n",
              "\n",
              "      .colab-df-generate:hover {\n",
              "        background-color: #E2EBFA;\n",
              "        box-shadow: 0px 1px 2px rgba(60, 64, 67, 0.3), 0px 1px 3px 1px rgba(60, 64, 67, 0.15);\n",
              "        fill: #174EA6;\n",
              "      }\n",
              "\n",
              "      [theme=dark] .colab-df-generate {\n",
              "        background-color: #3B4455;\n",
              "        fill: #D2E3FC;\n",
              "      }\n",
              "\n",
              "      [theme=dark] .colab-df-generate:hover {\n",
              "        background-color: #434B5C;\n",
              "        box-shadow: 0px 1px 3px 1px rgba(0, 0, 0, 0.15);\n",
              "        filter: drop-shadow(0px 1px 2px rgba(0, 0, 0, 0.3));\n",
              "        fill: #FFFFFF;\n",
              "      }\n",
              "    </style>\n",
              "    <button class=\"colab-df-generate\" onclick=\"generateWithVariable('results_df')\"\n",
              "            title=\"Generate code using this dataframe.\"\n",
              "            style=\"display:none;\">\n",
              "\n",
              "  <svg xmlns=\"http://www.w3.org/2000/svg\" height=\"24px\"viewBox=\"0 0 24 24\"\n",
              "       width=\"24px\">\n",
              "    <path d=\"M7,19H8.4L18.45,9,17,7.55,7,17.6ZM5,21V16.75L18.45,3.32a2,2,0,0,1,2.83,0l1.4,1.43a1.91,1.91,0,0,1,.58,1.4,1.91,1.91,0,0,1-.58,1.4L9.25,21ZM18.45,9,17,7.55Zm-12,3A5.31,5.31,0,0,0,4.9,8.1,5.31,5.31,0,0,0,1,6.5,5.31,5.31,0,0,0,4.9,4.9,5.31,5.31,0,0,0,6.5,1,5.31,5.31,0,0,0,8.1,4.9,5.31,5.31,0,0,0,12,6.5,5.46,5.46,0,0,0,6.5,12Z\"/>\n",
              "  </svg>\n",
              "    </button>\n",
              "    <script>\n",
              "      (() => {\n",
              "      const buttonEl =\n",
              "        document.querySelector('#id_0c3889d1-5314-4b5f-9ad1-71fe217a0d00 button.colab-df-generate');\n",
              "      buttonEl.style.display =\n",
              "        google.colab.kernel.accessAllowed ? 'block' : 'none';\n",
              "\n",
              "      buttonEl.onclick = () => {\n",
              "        google.colab.notebook.generateWithVariable('results_df');\n",
              "      }\n",
              "      })();\n",
              "    </script>\n",
              "  </div>\n",
              "\n",
              "    </div>\n",
              "  </div>\n"
            ],
            "application/vnd.google.colaboratory.intrinsic+json": {
              "type": "dataframe",
              "variable_name": "results_df",
              "summary": "{\n  \"name\": \"results_df\",\n  \"rows\": 2,\n  \"fields\": [\n    {\n      \"column\": \"Model\",\n      \"properties\": {\n        \"dtype\": \"string\",\n        \"num_unique_values\": 2,\n        \"samples\": [\n          \"MLP\",\n          \"Dummy\"\n        ],\n        \"semantic_type\": \"\",\n        \"description\": \"\"\n      }\n    },\n    {\n      \"column\": \"Accuracy\",\n      \"properties\": {\n        \"dtype\": \"number\",\n        \"std\": 0.027833631499376746,\n        \"min\": 0.8489534520462355,\n        \"max\": 0.8883161512027491,\n        \"num_unique_values\": 2,\n        \"samples\": [\n          0.8883161512027491,\n          0.8489534520462355\n        ],\n        \"semantic_type\": \"\",\n        \"description\": \"\"\n      }\n    },\n    {\n      \"column\": \"Precision\",\n      \"properties\": {\n        \"dtype\": \"number\",\n        \"std\": 0.43971920725623803,\n        \"min\": 0.0,\n        \"max\": 0.6218568665377177,\n        \"num_unique_values\": 2,\n        \"samples\": [\n          0.6218568665377177,\n          0.0\n        ],\n        \"semantic_type\": \"\",\n        \"description\": \"\"\n      }\n    },\n    {\n      \"column\": \"Recall\",\n      \"properties\": {\n        \"dtype\": \"number\",\n        \"std\": 0.47018579141980354,\n        \"min\": 0.0,\n        \"max\": 0.6649431230610134,\n        \"num_unique_values\": 2,\n        \"samples\": [\n          0.6649431230610134,\n          0.0\n        ],\n        \"semantic_type\": \"\",\n        \"description\": \"\"\n      }\n    },\n    {\n      \"column\": \"F1 Score\",\n      \"properties\": {\n        \"dtype\": \"number\",\n        \"std\": 0.45444243908340837,\n        \"min\": 0.0,\n        \"max\": 0.6426786606696652,\n        \"num_unique_values\": 2,\n        \"samples\": [\n          0.6426786606696652,\n          0.0\n        ],\n        \"semantic_type\": \"\",\n        \"description\": \"\"\n      }\n    }\n  ]\n}"
            }
          },
          "metadata": {},
          "execution_count": 43
        }
      ]
    },
    {
      "cell_type": "markdown",
      "source": [
        "<br>You might be like \"Dude the dummy is like almost as accurate\", the MLP not only beats the Dummy classifier in accuracy but, more importantly, it actually identifies the minority class with decent recall and precision. The Dummy looks good on accuracy alone but is basically useless in practice\n",
        "<br>What we really needed was the precision and recall, which should give us great results moving forward"
      ],
      "metadata": {
        "id": "qZcQ1vBQy6en"
      }
    }
  ]
}